{
 "cells": [
  {
   "cell_type": "markdown",
   "id": "7182f204",
   "metadata": {},
   "source": [
    "import dependancies used for data preprocessing phase"
   ]
  },
  {
   "cell_type": "code",
   "execution_count": 13,
   "id": "42cc57e9",
   "metadata": {},
   "outputs": [],
   "source": [
    "#import kaggle\n",
    "import os\n",
    "import pandas as pd\n",
    "#import glob\n",
    "import spacy\n",
    "import gc\n",
    "from tqdm import tqdm\n",
    "tqdm.pandas()"
   ]
  },
  {
   "cell_type": "markdown",
   "id": "bc75da5a",
   "metadata": {},
   "source": [
    "download pmc-articles dataset of medical articles' abstracts from kaggle"
   ]
  },
  {
   "cell_type": "code",
   "execution_count": 3,
   "id": "727a3886",
   "metadata": {},
   "outputs": [],
   "source": [
    "# if not os.path.exists(r\"C:\\Users\\seifa\\Desktop\\Python\\Beginner_natural_language_processing\\medical_articles_abstracts\"):\n",
    "#     os.environ['KAGGLE_CONFIG_DIR'] = os.path.expanduser('~/.kaggle')\n",
    "#     kaggle.api.dataset_download_files('cvltmao/pmc-articles', path='medical_articles_abstracts', unzip=True)\n",
    "#     print(\"Dataset downloaded and unzipped to: Medical Articles Abstracts/\")"
   ]
  },
  {
   "cell_type": "markdown",
   "id": "1355bbc1",
   "metadata": {},
   "source": [
    "import a scispacy model "
   ]
  },
  {
   "cell_type": "code",
   "execution_count": 4,
   "id": "5085e96c",
   "metadata": {},
   "outputs": [
    {
     "data": {
      "text/plain": [
       "{'summary': {'tok2vec': {'assigns': ['doc.tensor'],\n",
       "   'requires': [],\n",
       "   'scores': [],\n",
       "   'retokenizes': False},\n",
       "  'sentencizer': {'assigns': ['token.is_sent_start', 'doc.sents'],\n",
       "   'requires': [],\n",
       "   'scores': ['sents_f', 'sents_p', 'sents_r'],\n",
       "   'retokenizes': False}},\n",
       " 'problems': {'tok2vec': [], 'sentencizer': []},\n",
       " 'attrs': {'token.is_sent_start': {'assigns': ['sentencizer'], 'requires': []},\n",
       "  'doc.sents': {'assigns': ['sentencizer'], 'requires': []},\n",
       "  'doc.tensor': {'assigns': ['tok2vec'], 'requires': []}}}"
      ]
     },
     "execution_count": 4,
     "metadata": {},
     "output_type": "execute_result"
    }
   ],
   "source": [
    "nlp = spacy.load(\"en_core_sci_sm\", disable=[\"tagger\", \"parser\", \"lemmatizer\", \"ner\", \"attribute_ruler\"])\n",
    "nlp.add_pipe(\"sentencizer\")\n",
    "\n",
    "nlp.analyze_pipes()"
   ]
  },
  {
   "cell_type": "markdown",
   "id": "2f35eaac",
   "metadata": {},
   "source": [
    "This function preprocesses the dataset by removing duplicates and missing abstracts, cleaning whitespace and special characters in the `abstract` column, and returning the cleaned DataFrame.\n"
   ]
  },
  {
   "cell_type": "code",
   "execution_count": 5,
   "id": "15949ade",
   "metadata": {},
   "outputs": [],
   "source": [
    "def data_cleaning(df):\n",
    "    df.duplicated().sum()\n",
    "    print(f\"Number of duplicated rows: {df.duplicated().sum()}\")\n",
    "    df.drop_duplicates(inplace=True)\n",
    "\n",
    "    df = df.dropna(subset=['abstract']).reset_index(drop=True)\n",
    "    df['abstract'] = df['abstract'].str.replace(u'\\xa0', ' ', regex=False)\n",
    "    df['abstract'] = df['abstract'].str.replace(r'\\s+', ' ', regex=True)\n",
    "    df['abstract'] = df['abstract'].str.replace(u'\\xad', '', regex=False)\n",
    "\n",
    "    return df"
   ]
  },
  {
   "cell_type": "markdown",
   "id": "abed4f74",
   "metadata": {},
   "source": [
    "pass the df to the model"
   ]
  },
  {
   "cell_type": "code",
   "execution_count": 6,
   "id": "f01b7686",
   "metadata": {},
   "outputs": [],
   "source": [
    "def tokenize(df):\n",
    "    print(\"     Tokenizing abstracts...\")\n",
    "    docs = []\n",
    "    for doc in tqdm(nlp.pipe(df['abstract'], batch_size=8, n_process=1), total=len(df['abstract'])):\n",
    "        docs.append(doc)\n",
    "    \n",
    "    return docs\n",
    "    "
   ]
  },
  {
   "cell_type": "markdown",
   "id": "e6f25c5f",
   "metadata": {},
   "source": [
    "This function splits a processed SpaCy `Doc` object into smaller chunks of sentences. Each chunk contains up to `max_tokens` words. Sentences longer than `max_tokens` are stored as individual chunks. The function returns a list of sentence chunks suitable for embedding."
   ]
  },
  {
   "cell_type": "code",
   "execution_count": 7,
   "id": "c6c4ba5e",
   "metadata": {},
   "outputs": [],
   "source": [
    "# Extract sentences\n",
    "def chunk_doc_by_sentences(doc, max_tokens=120):\n",
    "    sentences = [sent.text.strip() for sent in doc.sents]\n",
    "    chunks, current_chunk, current_tokens = [], [], 0\n",
    "    for sent in sentences:\n",
    "        sent_tokens = len(sent.split())\n",
    "\n",
    "        if sent_tokens > max_tokens:\n",
    "            if current_chunk:\n",
    "                chunks.append(\" \".join(current_chunk))\n",
    "                current_chunk, current_tokens = [], 0\n",
    "            # append a long sentence as its own chunk\n",
    "            chunks.append(sent)\n",
    "            continue\n",
    "\n",
    "        if current_tokens + sent_tokens > max_tokens:\n",
    "            if current_chunk:\n",
    "                chunks.append(\" \".join(current_chunk))\n",
    "            current_chunk = [sent]\n",
    "            current_tokens = sent_tokens\n",
    "        else:\n",
    "            current_chunk.append(sent)\n",
    "            current_tokens += sent_tokens\n",
    "\n",
    "    if current_chunk:\n",
    "        chunks.append(\" \".join(current_chunk))\n",
    "    return chunks"
   ]
  },
  {
   "cell_type": "markdown",
   "id": "b75c1da9",
   "metadata": {},
   "source": [
    "This script iterates over raw CSV files containing medical abstracts, cleans the data using `data_cleaning`, tokenizes each abstract with SpaCy, and chunks the text into sentence segments using `chunk_doc_by_sentences`. The resulting `chunks` column replaces the original `abstract` column, and the processed DataFrame is saved to a separate directory for chunked outputs. Memory is cleared after processing each file.\n",
    "\n",
    "\n",
    "\n",
    "\n",
    "\n",
    "\n"
   ]
  },
  {
   "cell_type": "code",
   "execution_count": null,
   "id": "b34ad2aa",
   "metadata": {},
   "outputs": [
    {
     "name": "stdout",
     "output_type": "stream",
     "text": [
      "Processing file: o_z_1.csv\n",
      "Number of duplicated rows: 0\n",
      "     Tokenizing abstracts...\n"
     ]
    },
    {
     "name": "stderr",
     "output_type": "stream",
     "text": [
      "100%|██████████| 174907/174907 [20:59<00:00, 138.84it/s]\n"
     ]
    },
    {
     "name": "stdout",
     "output_type": "stream",
     "text": [
      "     Chunking document into sentences...\n"
     ]
    },
    {
     "name": "stderr",
     "output_type": "stream",
     "text": [
      "100%|██████████| 174907/174907 [00:39<00:00, 4426.12it/s] \n"
     ]
    },
    {
     "name": "stdout",
     "output_type": "stream",
     "text": [
      "Processed and saved: chunked_o_z_1.csv\n",
      "Processing file: o_z_2.csv\n",
      "Number of duplicated rows: 0\n",
      "     Tokenizing abstracts...\n"
     ]
    },
    {
     "name": "stderr",
     "output_type": "stream",
     "text": [
      "100%|██████████| 173880/173880 [26:07<00:00, 110.94it/s]\n"
     ]
    },
    {
     "name": "stdout",
     "output_type": "stream",
     "text": [
      "     Chunking document into sentences...\n"
     ]
    },
    {
     "name": "stderr",
     "output_type": "stream",
     "text": [
      "100%|██████████| 173880/173880 [00:56<00:00, 3060.42it/s]\n"
     ]
    },
    {
     "name": "stdout",
     "output_type": "stream",
     "text": [
      "Processed and saved: chunked_o_z_2.csv\n",
      "Processing file: o_z_3.csv\n",
      "Number of duplicated rows: 0\n",
      "     Tokenizing abstracts...\n"
     ]
    },
    {
     "name": "stderr",
     "output_type": "stream",
     "text": [
      "100%|██████████| 175096/175096 [26:53<00:00, 108.50it/s]\n"
     ]
    },
    {
     "name": "stdout",
     "output_type": "stream",
     "text": [
      "     Chunking document into sentences...\n"
     ]
    },
    {
     "name": "stderr",
     "output_type": "stream",
     "text": [
      "100%|██████████| 175096/175096 [01:01<00:00, 2847.24it/s]\n"
     ]
    },
    {
     "name": "stdout",
     "output_type": "stream",
     "text": [
      "Processed and saved: chunked_o_z_3.csv\n"
     ]
    }
   ],
   "source": [
    "folder_path = \"C:\\\\Users\\\\seifa\\\\Desktop\\\\Python\\\\Beginner_natural_language_processing\\\\medical_articles_abstracts\\\\raw\"\n",
    "folder_path_2 = \"C:\\\\Users\\\\seifa\\\\Desktop\\\\Python\\\\Beginner_natural_language_processing\\\\medical_articles_abstracts\\\\chunked\"\n",
    "\n",
    "\n",
    "for file in os.listdir(folder_path):\n",
    "    if file.endswith('.csv'):\n",
    "        print(f\"Processing file: {file}\")\n",
    "        df = pd.read_csv(os.path.join(folder_path, file))\n",
    "        df = data_cleaning(df)\n",
    "\n",
    "        docs = tokenize(df)\n",
    "        \n",
    "        print(\"     Chunking document into sentences...\")\n",
    "        df['chunks'] = [chunk_doc_by_sentences(doc) for doc in tqdm(docs, total=len(docs))]\n",
    "        df.drop(columns=['abstract'], inplace=True)\n",
    "\n",
    "        df.to_csv(os.path.join(folder_path_2, f\"chunked_{file}\"), index=False)\n",
    "        print(f\"Processed and saved: chunked_{file}\")\n",
    "\n",
    "        del docs\n",
    "        del df\n",
    "        gc.collect()"
   ]
  },
  {
   "cell_type": "markdown",
   "id": "8b160422",
   "metadata": {},
   "source": [
    "we can merge all dfs to a global one"
   ]
  },
  {
   "cell_type": "code",
   "execution_count": null,
   "id": "1e1613e2",
   "metadata": {},
   "outputs": [],
   "source": [
    "# files = glob.glob(\"Beginner_natural_language_processing\\medical_articles_abstracts\\chunked/*.csv\")\n",
    "# df = pd.concat([pd.read_csv(f) for f in files], ignore_index=True)\n",
    "# df.to_csv(\"PMCabstract_full.csv\", index=False)"
   ]
  },
  {
   "cell_type": "markdown",
   "id": "01500a1d",
   "metadata": {},
   "source": [
    "import dependancies used for embedding and vector database storage"
   ]
  },
  {
   "cell_type": "code",
   "execution_count": 11,
   "id": "d6850529",
   "metadata": {},
   "outputs": [],
   "source": [
    "import pandas as pd\n",
    "import numpy as np\n",
    "import ast\n",
    "from sentence_transformers import SentenceTransformer\n",
    "import faiss"
   ]
  },
  {
   "cell_type": "markdown",
   "id": "70baf3bc",
   "metadata": {},
   "source": [
    "Load the embedding model"
   ]
  },
  {
   "cell_type": "code",
   "execution_count": null,
   "id": "46f18fbc",
   "metadata": {},
   "outputs": [],
   "source": [
    "embed_model = SentenceTransformer(\"all-MiniLM-L6-v2\")"
   ]
  },
  {
   "cell_type": "markdown",
   "id": "fa899ca2",
   "metadata": {},
   "source": [
    "The `embed_chunks` function converts the string representation of chunk lists back to Python lists, flattens all sentences into a single list for the current file (`file_chunks`), and appends them to a global `all_chunks` list to track all chunks across files. It then generates vector embeddings for these sentences using the pre-loaded `embed_model`, returning the embeddings for the current file.\n",
    "\n",
    "\n",
    "\n",
    "\n",
    "\n",
    "\n",
    "\n"
   ]
  },
  {
   "cell_type": "code",
   "execution_count": 17,
   "id": "d213deea",
   "metadata": {},
   "outputs": [],
   "source": [
    "def embed_chunks(df, all_chunks):\n",
    "    df['chunks'] = df['chunks'].apply(ast.literal_eval)     # convert string representation of list back to list\n",
    "\n",
    "    \n",
    "    file_chunks = []\n",
    "    for chunk in df['chunks']:\n",
    "        for sent in chunk:\n",
    "            file_chunks.append(sent)\n",
    "            all_chunks.append(sent)\n",
    "\n",
    "\n",
    "    embeddings = embed_model.encode(file_chunks, convert_to_numpy=True, batch_size=64, show_progress_bar=True)\n",
    "\n",
    "    return embeddings"
   ]
  },
  {
   "cell_type": "markdown",
   "id": "c4f7c097",
   "metadata": {},
   "source": [
    "This cell initializes a FAISS index using an inner product metric (for cosine similarity after normalization) with an embedding dimension of 384. It iterates over each CSV file,  normalizes the embeddings, and adds them to the main FAISS index. After processing all files, the combined index is saved locally as `combined_faiss_index_final.faiss`. The `all_chunks` list keeps track of all text chunks across files for later retrieval.\n",
    "\n",
    "\n"
   ]
  },
  {
   "cell_type": "code",
   "execution_count": 18,
   "id": "2cfc53ae",
   "metadata": {},
   "outputs": [
    {
     "name": "stdout",
     "output_type": "stream",
     "text": [
      "Processing file: chunked_a_b.csv\n",
      "     Embedding chunks...\n"
     ]
    },
    {
     "name": "stderr",
     "output_type": "stream",
     "text": [
      "C:\\Users\\seifa\\AppData\\Local\\Temp\\ipykernel_14280\\132584837.py:2: SettingWithCopyWarning: \n",
      "A value is trying to be set on a copy of a slice from a DataFrame.\n",
      "Try using .loc[row_indexer,col_indexer] = value instead\n",
      "\n",
      "See the caveats in the documentation: https://pandas.pydata.org/pandas-docs/stable/user_guide/indexing.html#returning-a-view-versus-a-copy\n",
      "  df['chunks'] = df['chunks'].apply(ast.literal_eval)     # convert string representation of list back to list\n"
     ]
    },
    {
     "data": {
      "application/vnd.jupyter.widget-view+json": {
       "model_id": "60e4f9b5fb2e40b6a3f6d93bf26412bd",
       "version_major": 2,
       "version_minor": 0
      },
      "text/plain": [
       "Batches:   0%|          | 0/41 [00:00<?, ?it/s]"
      ]
     },
     "metadata": {},
     "output_type": "display_data"
    },
    {
     "name": "stdout",
     "output_type": "stream",
     "text": [
      "     Normalizing embeddings...\n",
      "     Adding embeddings to main index...\n",
      "     updated total nb of vectors in index: 2617\n",
      "Processing file: chunked_c_h.csv\n",
      "     Embedding chunks...\n"
     ]
    },
    {
     "name": "stderr",
     "output_type": "stream",
     "text": [
      "C:\\Users\\seifa\\AppData\\Local\\Temp\\ipykernel_14280\\132584837.py:2: SettingWithCopyWarning: \n",
      "A value is trying to be set on a copy of a slice from a DataFrame.\n",
      "Try using .loc[row_indexer,col_indexer] = value instead\n",
      "\n",
      "See the caveats in the documentation: https://pandas.pydata.org/pandas-docs/stable/user_guide/indexing.html#returning-a-view-versus-a-copy\n",
      "  df['chunks'] = df['chunks'].apply(ast.literal_eval)     # convert string representation of list back to list\n"
     ]
    },
    {
     "data": {
      "application/vnd.jupyter.widget-view+json": {
       "model_id": "e7cf4ea03f95410b9b61aefbab973cf5",
       "version_major": 2,
       "version_minor": 0
      },
      "text/plain": [
       "Batches:   0%|          | 0/37 [00:00<?, ?it/s]"
      ]
     },
     "metadata": {},
     "output_type": "display_data"
    },
    {
     "name": "stdout",
     "output_type": "stream",
     "text": [
      "     Normalizing embeddings...\n",
      "     Adding embeddings to main index...\n",
      "     updated total nb of vectors in index: 4979\n",
      "Processing file: chunked_i_n.csv\n",
      "     Embedding chunks...\n"
     ]
    },
    {
     "name": "stderr",
     "output_type": "stream",
     "text": [
      "C:\\Users\\seifa\\AppData\\Local\\Temp\\ipykernel_14280\\132584837.py:2: SettingWithCopyWarning: \n",
      "A value is trying to be set on a copy of a slice from a DataFrame.\n",
      "Try using .loc[row_indexer,col_indexer] = value instead\n",
      "\n",
      "See the caveats in the documentation: https://pandas.pydata.org/pandas-docs/stable/user_guide/indexing.html#returning-a-view-versus-a-copy\n",
      "  df['chunks'] = df['chunks'].apply(ast.literal_eval)     # convert string representation of list back to list\n"
     ]
    },
    {
     "data": {
      "application/vnd.jupyter.widget-view+json": {
       "model_id": "c2ddc71c339b4140b09be7a63614c239",
       "version_major": 2,
       "version_minor": 0
      },
      "text/plain": [
       "Batches:   0%|          | 0/41 [00:00<?, ?it/s]"
      ]
     },
     "metadata": {},
     "output_type": "display_data"
    },
    {
     "name": "stdout",
     "output_type": "stream",
     "text": [
      "     Normalizing embeddings...\n",
      "     Adding embeddings to main index...\n",
      "     updated total nb of vectors in index: 7542\n",
      "Processing file: chunked_o_z_1.csv\n",
      "     Embedding chunks...\n"
     ]
    },
    {
     "name": "stderr",
     "output_type": "stream",
     "text": [
      "C:\\Users\\seifa\\AppData\\Local\\Temp\\ipykernel_14280\\132584837.py:2: SettingWithCopyWarning: \n",
      "A value is trying to be set on a copy of a slice from a DataFrame.\n",
      "Try using .loc[row_indexer,col_indexer] = value instead\n",
      "\n",
      "See the caveats in the documentation: https://pandas.pydata.org/pandas-docs/stable/user_guide/indexing.html#returning-a-view-versus-a-copy\n",
      "  df['chunks'] = df['chunks'].apply(ast.literal_eval)     # convert string representation of list back to list\n"
     ]
    },
    {
     "data": {
      "application/vnd.jupyter.widget-view+json": {
       "model_id": "e165de7b414e48a78d1db16e6c052e18",
       "version_major": 2,
       "version_minor": 0
      },
      "text/plain": [
       "Batches:   0%|          | 0/34 [00:00<?, ?it/s]"
      ]
     },
     "metadata": {},
     "output_type": "display_data"
    },
    {
     "name": "stdout",
     "output_type": "stream",
     "text": [
      "     Normalizing embeddings...\n",
      "     Adding embeddings to main index...\n",
      "     updated total nb of vectors in index: 9665\n",
      "Processing file: chunked_o_z_2.csv\n",
      "     Embedding chunks...\n"
     ]
    },
    {
     "name": "stderr",
     "output_type": "stream",
     "text": [
      "C:\\Users\\seifa\\AppData\\Local\\Temp\\ipykernel_14280\\132584837.py:2: SettingWithCopyWarning: \n",
      "A value is trying to be set on a copy of a slice from a DataFrame.\n",
      "Try using .loc[row_indexer,col_indexer] = value instead\n",
      "\n",
      "See the caveats in the documentation: https://pandas.pydata.org/pandas-docs/stable/user_guide/indexing.html#returning-a-view-versus-a-copy\n",
      "  df['chunks'] = df['chunks'].apply(ast.literal_eval)     # convert string representation of list back to list\n"
     ]
    },
    {
     "data": {
      "application/vnd.jupyter.widget-view+json": {
       "model_id": "664a2764bc624b7fb0c10feccce3c093",
       "version_major": 2,
       "version_minor": 0
      },
      "text/plain": [
       "Batches:   0%|          | 0/38 [00:00<?, ?it/s]"
      ]
     },
     "metadata": {},
     "output_type": "display_data"
    },
    {
     "name": "stdout",
     "output_type": "stream",
     "text": [
      "     Normalizing embeddings...\n",
      "     Adding embeddings to main index...\n",
      "     updated total nb of vectors in index: 12092\n",
      "Processing file: chunked_o_z_3.csv\n",
      "     Embedding chunks...\n"
     ]
    },
    {
     "name": "stderr",
     "output_type": "stream",
     "text": [
      "C:\\Users\\seifa\\AppData\\Local\\Temp\\ipykernel_14280\\132584837.py:2: SettingWithCopyWarning: \n",
      "A value is trying to be set on a copy of a slice from a DataFrame.\n",
      "Try using .loc[row_indexer,col_indexer] = value instead\n",
      "\n",
      "See the caveats in the documentation: https://pandas.pydata.org/pandas-docs/stable/user_guide/indexing.html#returning-a-view-versus-a-copy\n",
      "  df['chunks'] = df['chunks'].apply(ast.literal_eval)     # convert string representation of list back to list\n"
     ]
    },
    {
     "data": {
      "application/vnd.jupyter.widget-view+json": {
       "model_id": "671f7ec8f26d4331913e19a7ccfd5c08",
       "version_major": 2,
       "version_minor": 0
      },
      "text/plain": [
       "Batches:   0%|          | 0/41 [00:00<?, ?it/s]"
      ]
     },
     "metadata": {},
     "output_type": "display_data"
    },
    {
     "name": "stdout",
     "output_type": "stream",
     "text": [
      "     Normalizing embeddings...\n",
      "     Adding embeddings to main index...\n",
      "     updated total nb of vectors in index: 14692\n",
      "Final FAISS index saved successfully.\n"
     ]
    }
   ],
   "source": [
    "d = 384  # embedding dimension(all-MiniLM-L6-v2)\n",
    "index = faiss.IndexFlatIP(d)  # inner product = cosine similarity after normalization\n",
    "all_chunks = []\n",
    "\n",
    "for file in os.listdir(\"C:\\\\Users\\\\seifa\\\\Desktop\\\\Python\\\\Beginner_natural_language_processing\\\\medical_articles_abstracts\"):\n",
    "    if file.endswith('.csv'):\n",
    "\n",
    "        print(f\"Processing file: {file}\")\n",
    "        df = pd.read_csv(os.path.join(\"C:\\\\Users\\\\seifa\\\\Desktop\\\\Python\\\\Beginner_natural_language_processing\\\\medical_articles_abstracts\", file))\n",
    "\n",
    "        # 2. Embed all chunks\n",
    "        print(\"     Embedding chunks...\")\n",
    "        embeddings = embed_chunks(df.iloc[:1000, :], all_chunks)\n",
    "        del df\n",
    "        gc.collect()\n",
    "\n",
    "        # 3. Normalize embeddings if using cosine similarity\n",
    "        print(\"     Normalizing embeddings...\")\n",
    "        faiss.normalize_L2(embeddings)\n",
    "\n",
    "        # 4. Create FAISS index\n",
    "        print(\"     Adding embeddings to main index...\")\n",
    "        index.add(embeddings)\n",
    "        print(f\"     updated total nb of vectors in index: {index.ntotal}\")\n",
    "\n",
    "        del embeddings\n",
    "        gc.collect()\n",
    "\n",
    "faiss.write_index(index, \"combined_faiss_index_final.faiss\")\n",
    "print(\"Final FAISS index saved successfully.\")"
   ]
  },
  {
   "cell_type": "markdown",
   "id": "bfb6bc02",
   "metadata": {},
   "source": [
    "This cell demonstrates how to query the FAISS index. The query string is first embedded using the same embedding model, normalized, and then used to retrieve the top 5 most similar chunks from the index along with their similarity scores (`distances`) and indices in the `all_chunks` list.\n"
   ]
  },
  {
   "cell_type": "code",
   "execution_count": null,
   "id": "e99fb912",
   "metadata": {},
   "outputs": [],
   "source": [
    "# 5. Query example\n",
    "query = \"What were the health impacts of micronutrient deficiencies in South African children?\"\n",
    "query_emb = embed_model.encode([query], convert_to_numpy=True)\n",
    "faiss.normalize_L2(query_emb)\n",
    "k = 5  # top-k chunks\n",
    "distances, indices = index.search(query_emb, k)"
   ]
  },
  {
   "cell_type": "code",
   "execution_count": 80,
   "id": "fdc30ed4",
   "metadata": {},
   "outputs": [
    {
     "data": {
      "text/plain": [
       "['Globally, there is evidence that three micronutrients deficiencies are of public health concern among children. They are vitamin A, iodine and iron deficiencies. Communities particularly affected are those in situations where poverty, unemployment, civil unrest, war and exploitation remain endemic. Malnutrition is an impediment to productivity, economic growth and poverty eradication. It is estimated that 32% of the global burden would be removed by eliminating malnutrition, including micronutrients deficiencies. The study was carried out in NkowaNkowa township of Mopani District, Limpopo Province, South Africa. The main objective was to determine the women’s knowledge on food fortification. The study design was descriptive. The snowballing method was used to identify women of child-bearing age.',\n",
       " 'The Constitution of South Africa stipulates that all children have the right to basic nutrition; however, a great number of South African children are underweight for age. It is important to address malnutrition as it is associated with more than 50% of all child deaths in developing countries and also increases the risk for infective diseases. To determine the prevalence of underweight in children aged 5 years and younger attending primary health care clinics in the Mangaung area, Free State, and determine the possible underlying causes thereof. Six preselected primary health care clinics in the Mangaung area. This was a cross-sectional study.',\n",
       " 'The children were then weighed and measured, and the 2007 WHO Growth Reference for school-aged children and adolescents used as reference. A total of 187 children were included in the study. The combination of underweight, wasting and stunting gave an 18% prevalence of malnutrition in this study. A BMI of less than the fifth percentile occurred in 27% of the pupils. Factors positively associated with malnutrition included: Absence of a fridge and/or running water in the house and low education and/or unemployment of parents. Illness in the previous month was reported by 41% of the malnourished children.',\n",
       " 'As socio-economic factors that contribute to malnutrition are now known, teachers will be able to identify and refer children with or at risk of malnutrition and indirectly decrease child mortality.',\n",
       " 'Malnutrition is a major public health challenge in developing countries. It has been identified as an important cause of child mortality and morbidity and leads to inadequate physical and cognitive development in children. The South African government implemented a strategy for malnutrition assessment in children under 5 years by community caregivers (CCGs), who would then refer children at risk or those having developed malnutrition to primary health care clinics. Irrespective of this strategy, children still present at clinics with severe malnutrition. The aim of the study was to explore and describe the experiences of community caregivers with the assessment of malnutrition in children under 5 years old.']"
      ]
     },
     "execution_count": 80,
     "metadata": {},
     "output_type": "execute_result"
    }
   ],
   "source": [
    "# 6. Retrieve top-k chunk texts\n",
    "top_chunks = [all_chunks[i] for i in indices[0]]\n",
    "top_chunks"
   ]
  },
  {
   "cell_type": "markdown",
   "id": "06d5238f",
   "metadata": {},
   "source": [
    "This cell visualizes the structure of the FAISS index using t-SNE. \n",
    "\n",
    "- A sample of 1000 vectors from the index is projected into 2D for visualization.\n",
    "- The query embedding and its top-k retrieved vectors are highlighted.\n",
    "- Light gray points represent the sampled index vectors.\n",
    "- The red point represents the query.\n",
    "- Blue points represent the top-k most similar chunks retrieved by the query."
   ]
  },
  {
   "cell_type": "code",
   "execution_count": 92,
   "id": "4dbe0862",
   "metadata": {},
   "outputs": [
    {
     "data": {
      "image/png": "[encoded data removed]",
      "text/plain": [
       "<Figure size 800x600 with 1 Axes>"
      ]
     },
     "metadata": {},
     "output_type": "display_data"
    }
   ],
   "source": [
    "import numpy as np\n",
    "import matplotlib.pyplot as plt\n",
    "from sklearn.manifold import TSNE\n",
    "\n",
    "num_samples = min(1000, index.ntotal)\n",
    "sample_vectors = index.reconstruct_n(0, num_samples)\n",
    "\n",
    "# prepare vectors for t-SNE\n",
    "sample_vectors = index.reconstruct_n(0, min(1000, index.ntotal))  # take first 1000\n",
    "tsne = TSNE(n_components=2, perplexity=30, random_state=42)\n",
    "proj = tsne.fit_transform(sample_vectors)\n",
    "\n",
    "\n",
    "topk_vectors = np.vstack([index.reconstruct(int(idx)) for idx in indices[0]])\n",
    "query_and_topk = np.vstack([query_emb, topk_vectors])\n",
    "all_vectors = np.vstack([sample_vectors, query_and_topk])\n",
    "\n",
    "# t-SNE projection\n",
    "tsne = TSNE(n_components=2, perplexity=30, random_state=42)\n",
    "proj = tsne.fit_transform(all_vectors)\n",
    "\n",
    "# plot\n",
    "plt.figure(figsize=(8,6))\n",
    "plt.scatter(proj[:num_samples,0], proj[:num_samples,1], c='lightgray', label='Index sample')\n",
    "plt.scatter(proj[num_samples,0], proj[num_samples,1], c='red', label='Query', s=100)\n",
    "plt.scatter(proj[num_samples+1:,0], proj[num_samples+1:,1], c='blue', label='Top-k', s=50)\n",
    "plt.legend()\n",
    "plt.show()\n"
   ]
  },
  {
   "cell_type": "markdown",
   "id": "5595b9e5",
   "metadata": {},
   "source": [
    "This cell loads the BioMistral-7B model with 4-bit quantization to reduce VRAM usage.\n",
    "\n",
    "- `BitsAndBytesConfig` is used for 4-bit quantization.\n",
    "- `AutoTokenizer` loads the corresponding tokenizer.\n",
    "- `AutoModelForCausalLM` loads the model with GPU/CPU offloading.\n",
    "- This setup is intended to enable running a large LLM on limited hardware (e.g., 16GB RAM, 6GB VRAM)."
   ]
  },
  {
   "cell_type": "code",
   "execution_count": 20,
   "id": "7d5e3a3b",
   "metadata": {},
   "outputs": [
    {
     "name": "stderr",
     "output_type": "stream",
     "text": [
      "The `load_in_4bit` and `load_in_8bit` arguments are deprecated and will be removed in the future versions. Please, pass a `BitsAndBytesConfig` object in `quantization_config` argument instead.\n"
     ]
    }
   ],
   "source": [
    "from transformers import AutoModelForCausalLM, AutoTokenizer, BitsAndBytesConfig, pipeline\n",
    "\n",
    "model_name = \"BioMistral/BioMistral-7B\"\n",
    "\n",
    "# 4-bit quantization config\n",
    "bnb_config = BitsAndBytesConfig(\n",
    "    load_in_4bit=True,\n",
    "    bnb_4bit_quant_type=\"nf4\",\n",
    "    bnb_4bit_use_double_quant=True,\n",
    "    bnb_4bit_compute_dtype=\"float16\" \n",
    ")\n",
    "\n",
    "tokenizer = AutoTokenizer.from_pretrained(model_name)\n",
    "llm = AutoModelForCausalLM.from_pretrained(\n",
    "    model_name,\n",
    "    device_map={\"\": 0},  # use \"auto\" or custom device_map\n",
    "    load_in_4bit=True,\n",
    "    llm_int8_enable_fp32_cpu_offload=True  # allow offloading to CPU\n",
    ")\n"
   ]
  },
  {
   "cell_type": "markdown",
   "id": "3c92534c",
   "metadata": {},
   "source": [
    "\n",
    "This cell sets up a `pipeline` for text generation using the loaded LLM and executes a sample query.\n",
    "\n",
    "- The query asks about health impacts of micronutrient deficiencies in South African children.\n",
    "- `max_length` limits the response length.\n",
    "- `do_sample=True` and `temperature=0.2` introduce controlled randomness in the generation.\n",
    "- The generated text is printed directly."
   ]
  },
  {
   "cell_type": "code",
   "execution_count": 21,
   "id": "05224172",
   "metadata": {},
   "outputs": [
    {
     "name": "stderr",
     "output_type": "stream",
     "text": [
      "Device set to use cuda:0\n",
      "Truncation was not explicitly activated but `max_length` is provided a specific value, please use `truncation=True` to explicitly truncate examples to max length. Defaulting to 'longest_first' truncation strategy. If you encode pairs of sequences (GLUE-style) with the tokenizer you can select this strategy more precisely by providing a specific strategy to `truncation`.\n",
      "Setting `pad_token_id` to `eos_token_id`:2 for open-end generation.\n",
      "Both `max_new_tokens` (=256) and `max_length`(=300) seem to have been set. `max_new_tokens` will take precedence. Please refer to the documentation for more information. (https://huggingface.co/docs/transformers/main/en/main_classes/text_generation)\n"
     ]
    },
    {
     "name": "stdout",
     "output_type": "stream",
     "text": [
      "What were the health impacts of micronutrient deficiencies in South African children?\n"
     ]
    }
   ],
   "source": [
    "qa_pipeline = pipeline(\n",
    "    \"text-generation\",\n",
    "    model=llm,\n",
    "    tokenizer=tokenizer\n",
    ")\n",
    "\n",
    "query = \"What were the health impacts of micronutrient deficiencies in South African children?\"\n",
    "response = qa_pipeline(query, max_length=300, do_sample=True, temperature=0.2)\n",
    "print(response[0]['generated_text'])\n"
   ]
  },
  {
   "cell_type": "markdown",
   "id": "7a899352",
   "metadata": {},
   "source": [
    "as you can see, the llm without the rag pipeline doesn't output any response.\n",
    "next cell integrates rag and adds more context to the query prompt."
   ]
  },
  {
   "cell_type": "code",
   "execution_count": 25,
   "id": "207f452b",
   "metadata": {},
   "outputs": [
    {
     "name": "stderr",
     "output_type": "stream",
     "text": [
      "The following generation flags are not valid and may be ignored: ['temperature']. Set `TRANSFORMERS_VERBOSITY=info` for more details.\n",
      "Setting `pad_token_id` to `eos_token_id`:2 for open-end generation.\n",
      "Both `max_new_tokens` (=256) and `max_length`(=400) seem to have been set. `max_new_tokens` will take precedence. Please refer to the documentation for more information. (https://huggingface.co/docs/transformers/main/en/main_classes/text_generation)\n"
     ]
    },
    {
     "name": "stdout",
     "output_type": "stream",
     "text": [
      "Answer the question based on the context below.\n",
      "\n",
      "Context:\n",
      "Globally, there is evidence that three micronutrients deficiencies are of public health concern among children. They are vitamin A, iodine and iron deficiencies. Communities particularly affected are those in situations where poverty, unemployment, civil unrest, war and exploitation remain endemic. Malnutrition is an impediment to productivity, economic growth and poverty eradication. It is estimated that 32% of the global burden would be removed by eliminating malnutrition, including micronutrients deficiencies. The study was carried out in NkowaNkowa township of Mopani District, Limpopo Province, South Africa. The main objective was to determine the women’s knowledge on food fortification. The study design was descriptive. The snowballing method was used to identify women of child-bearing age.\n",
      "The Constitution of South Africa stipulates that all children have the right to basic nutrition; however, a great number of South African children are underweight for age. It is important to address malnutrition as it is associated with more than 50% of all child deaths in developing countries and also increases the risk for infective diseases. To determine the prevalence of underweight in children aged 5 years and younger attending primary health care clinics in the Mangaung area, Free State, and determine the possible underlying causes thereof. Six preselected primary health care clinics in the Mangaung area. This was a cross-sectional study.\n",
      "The children were then weighed and measured, and the 2007 WHO Growth Reference for school-aged children and adolescents used as reference. A total of 187 children were included in the study. The combination of underweight, wasting and stunting gave an 18% prevalence of malnutrition in this study. A BMI of less than the fifth percentile occurred in 27% of the pupils. Factors positively associated with malnutrition included: Absence of a fridge and/or running water in the house and low education and/or unemployment of parents. Illness in the previous month was reported by 41% of the malnourished children.\n",
      "As socio-economic factors that contribute to malnutrition are now known, teachers will be able to identify and refer children with or at risk of malnutrition and indirectly decrease child mortality.\n",
      "Malnutrition is a major public health challenge in developing countries. It has been identified as an important cause of child mortality and morbidity and leads to inadequate physical and cognitive development in children. The South African government implemented a strategy for malnutrition assessment in children under 5 years by community caregivers (CCGs), who would then refer children at risk or those having developed malnutrition to primary health care clinics. Irrespective of this strategy, children still present at clinics with severe malnutrition. The aim of the study was to explore and describe the experiences of community caregivers with the assessment of malnutrition in children under 5 years old.\n",
      "\n",
      "Question: What were the health impacts of micronutrient deficiencies in South African children?\n",
      "Answer: prevalence of underweight in children aged 5 years and younger attending primary health care clinics in the Mangaung area.\n"
     ]
    }
   ],
   "source": [
    "def generate_answer(query, index, texts, embedder, top_k=5):\n",
    "    # Embed query\n",
    "    query_emb = embedder.encode([query])\n",
    "\n",
    "    # Search FAISS\n",
    "    distances, indices = index.search(query_emb, top_k)\n",
    "    retrieved_chunks = [texts[i] for i in indices[0]]\n",
    "\n",
    "    # Build context for LLM\n",
    "    context = \"\\n\".join(retrieved_chunks)\n",
    "    prompt = f\"Answer the question based on the context below.\\n\\nContext:\\n{context}\\n\\nQuestion: {query}\\nAnswer:\"\n",
    "\n",
    "    # Generate\n",
    "    response = qa_pipeline(prompt, max_length=400, do_sample=False)\n",
    "    return response[0]['generated_text']\n",
    "\n",
    "response = generate_answer(query, index, all_chunks, embed_model)\n",
    "print(response)"
   ]
  }
 ],
 "metadata": {
  "kernelspec": {
   "display_name": "Python 3",
   "language": "python",
   "name": "python3"
  },
  "language_info": {
   "codemirror_mode": {
    "name": "ipython",
    "version": 3
   },
   "file_extension": ".py",
   "mimetype": "text/x-python",
   "name": "python",
   "nbconvert_exporter": "python",
   "pygments_lexer": "ipython3",
   "version": "3.11.9"
  }
 },
 "nbformat": 4,
 "nbformat_minor": 5
}
