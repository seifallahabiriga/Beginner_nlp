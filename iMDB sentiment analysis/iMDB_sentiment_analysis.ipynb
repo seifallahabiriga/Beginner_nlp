{
 "cells": [
  {
   "cell_type": "code",
   "execution_count": 43,
   "id": "4e712b08",
   "metadata": {},
   "outputs": [],
   "source": [
    "import kaggle\n",
    "import pandas as pd\n",
    "import os\n",
    "import spacy\n",
    "from spacy.lang.en import English\n",
    "from collections import Counter"
   ]
  },
  {
   "cell_type": "code",
   "execution_count": 112,
   "id": "d70b2a23",
   "metadata": {},
   "outputs": [],
   "source": [
    "if not os.path.exists(r\"C:\\Users\\seifa\\Desktop\\Python\\Beginner_natural_language_processing\\iMDB-50k\\IMDB Dataset.csv\"):\n",
    "    os.environ['KAGGLE_CONFIG_DIR'] = os.path.expanduser('~/.kaggle')\n",
    "    kaggle.api.dataset_download_files('lakshmi25npathi/imdb-dataset-of-50k-movie-reviews', path='iMDB-50k', unzip=True)\n",
    "    print(\"Dataset downloaded and unzipped to: iMDB-50k/\")"
   ]
  },
  {
   "cell_type": "code",
   "execution_count": 113,
   "id": "a36fcce1",
   "metadata": {},
   "outputs": [],
   "source": [
    "df = pd.read_csv(r\"C:\\Users\\seifa\\Desktop\\Python\\Beginner_natural_language_processing\\iMDB-50k\\IMDB Dataset.csv\")"
   ]
  },
  {
   "cell_type": "code",
   "execution_count": 114,
   "id": "89b6d787",
   "metadata": {},
   "outputs": [
    {
     "data": {
      "application/vnd.microsoft.datawrangler.viewer.v0+json": {
       "columns": [
        {
         "name": "index",
         "rawType": "int64",
         "type": "integer"
        },
        {
         "name": "review",
         "rawType": "object",
         "type": "string"
        },
        {
         "name": "sentiment",
         "rawType": "object",
         "type": "string"
        }
       ],
       "ref": "521abc78-cf81-48e0-89f6-3ff369b37c6d",
       "rows": [
        [
         "0",
         "One of the other reviewers has mentioned that after watching just 1 Oz episode you'll be hooked. They are right, as this is exactly what happened with me.<br /><br />The first thing that struck me about Oz was its brutality and unflinching scenes of violence, which set in right from the word GO. Trust me, this is not a show for the faint hearted or timid. This show pulls no punches with regards to drugs, sex or violence. Its is hardcore, in the classic use of the word.<br /><br />It is called OZ as that is the nickname given to the Oswald Maximum Security State Penitentary. It focuses mainly on Emerald City, an experimental section of the prison where all the cells have glass fronts and face inwards, so privacy is not high on the agenda. Em City is home to many..Aryans, Muslims, gangstas, Latinos, Christians, Italians, Irish and more....so scuffles, death stares, dodgy dealings and shady agreements are never far away.<br /><br />I would say the main appeal of the show is due to the fact that it goes where other shows wouldn't dare. Forget pretty pictures painted for mainstream audiences, forget charm, forget romance...OZ doesn't mess around. The first episode I ever saw struck me as so nasty it was surreal, I couldn't say I was ready for it, but as I watched more, I developed a taste for Oz, and got accustomed to the high levels of graphic violence. Not just violence, but injustice (crooked guards who'll be sold out for a nickel, inmates who'll kill on order and get away with it, well mannered, middle class inmates being turned into prison bitches due to their lack of street skills or prison experience) Watching Oz, you may become comfortable with what is uncomfortable viewing....thats if you can get in touch with your darker side.",
         "positive"
        ],
        [
         "1",
         "A wonderful little production. <br /><br />The filming technique is very unassuming- very old-time-BBC fashion and gives a comforting, and sometimes discomforting, sense of realism to the entire piece. <br /><br />The actors are extremely well chosen- Michael Sheen not only \"has got all the polari\" but he has all the voices down pat too! You can truly see the seamless editing guided by the references to Williams' diary entries, not only is it well worth the watching but it is a terrificly written and performed piece. A masterful production about one of the great master's of comedy and his life. <br /><br />The realism really comes home with the little things: the fantasy of the guard which, rather than use the traditional 'dream' techniques remains solid then disappears. It plays on our knowledge and our senses, particularly with the scenes concerning Orton and Halliwell and the sets (particularly of their flat with Halliwell's murals decorating every surface) are terribly well done.",
         "positive"
        ],
        [
         "2",
         "I thought this was a wonderful way to spend time on a too hot summer weekend, sitting in the air conditioned theater and watching a light-hearted comedy. The plot is simplistic, but the dialogue is witty and the characters are likable (even the well bread suspected serial killer). While some may be disappointed when they realize this is not Match Point 2: Risk Addiction, I thought it was proof that Woody Allen is still fully in control of the style many of us have grown to love.<br /><br />This was the most I'd laughed at one of Woody's comedies in years (dare I say a decade?). While I've never been impressed with Scarlet Johanson, in this she managed to tone down her \"sexy\" image and jumped right into a average, but spirited young woman.<br /><br />This may not be the crown jewel of his career, but it was wittier than \"Devil Wears Prada\" and more interesting than \"Superman\" a great comedy to go see with friends.",
         "positive"
        ],
        [
         "3",
         "Basically there's a family where a little boy (Jake) thinks there's a zombie in his closet & his parents are fighting all the time.<br /><br />This movie is slower than a soap opera... and suddenly, Jake decides to become Rambo and kill the zombie.<br /><br />OK, first of all when you're going to make a film you must Decide if its a thriller or a drama! As a drama the movie is watchable. Parents are divorcing & arguing like in real life. And then we have Jake with his closet which totally ruins all the film! I expected to see a BOOGEYMAN similar movie, and instead i watched a drama with some meaningless thriller spots.<br /><br />3 out of 10 just for the well playing parents & descent dialogs. As for the shots with Jake: just ignore them.",
         "negative"
        ],
        [
         "4",
         "Petter Mattei's \"Love in the Time of Money\" is a visually stunning film to watch. Mr. Mattei offers us a vivid portrait about human relations. This is a movie that seems to be telling us what money, power and success do to people in the different situations we encounter. <br /><br />This being a variation on the Arthur Schnitzler's play about the same theme, the director transfers the action to the present time New York where all these different characters meet and connect. Each one is connected in one way, or another to the next person, but no one seems to know the previous point of contact. Stylishly, the film has a sophisticated luxurious look. We are taken to see how these people live and the world they live in their own habitat.<br /><br />The only thing one gets out of all these souls in the picture is the different stages of loneliness each one inhabits. A big city is not exactly the best place in which human relations find sincere fulfillment, as one discerns is the case with most of the people we encounter.<br /><br />The acting is good under Mr. Mattei's direction. Steve Buscemi, Rosario Dawson, Carol Kane, Michael Imperioli, Adrian Grenier, and the rest of the talented cast, make these characters come alive.<br /><br />We wish Mr. Mattei good luck and await anxiously for his next work.",
         "positive"
        ]
       ],
       "shape": {
        "columns": 2,
        "rows": 5
       }
      },
      "text/html": [
       "<div>\n",
       "<style scoped>\n",
       "    .dataframe tbody tr th:only-of-type {\n",
       "        vertical-align: middle;\n",
       "    }\n",
       "\n",
       "    .dataframe tbody tr th {\n",
       "        vertical-align: top;\n",
       "    }\n",
       "\n",
       "    .dataframe thead th {\n",
       "        text-align: right;\n",
       "    }\n",
       "</style>\n",
       "<table border=\"1\" class=\"dataframe\">\n",
       "  <thead>\n",
       "    <tr style=\"text-align: right;\">\n",
       "      <th></th>\n",
       "      <th>review</th>\n",
       "      <th>sentiment</th>\n",
       "    </tr>\n",
       "  </thead>\n",
       "  <tbody>\n",
       "    <tr>\n",
       "      <th>0</th>\n",
       "      <td>One of the other reviewers has mentioned that ...</td>\n",
       "      <td>positive</td>\n",
       "    </tr>\n",
       "    <tr>\n",
       "      <th>1</th>\n",
       "      <td>A wonderful little production. &lt;br /&gt;&lt;br /&gt;The...</td>\n",
       "      <td>positive</td>\n",
       "    </tr>\n",
       "    <tr>\n",
       "      <th>2</th>\n",
       "      <td>I thought this was a wonderful way to spend ti...</td>\n",
       "      <td>positive</td>\n",
       "    </tr>\n",
       "    <tr>\n",
       "      <th>3</th>\n",
       "      <td>Basically there's a family where a little boy ...</td>\n",
       "      <td>negative</td>\n",
       "    </tr>\n",
       "    <tr>\n",
       "      <th>4</th>\n",
       "      <td>Petter Mattei's \"Love in the Time of Money\" is...</td>\n",
       "      <td>positive</td>\n",
       "    </tr>\n",
       "  </tbody>\n",
       "</table>\n",
       "</div>"
      ],
      "text/plain": [
       "                                              review sentiment\n",
       "0  One of the other reviewers has mentioned that ...  positive\n",
       "1  A wonderful little production. <br /><br />The...  positive\n",
       "2  I thought this was a wonderful way to spend ti...  positive\n",
       "3  Basically there's a family where a little boy ...  negative\n",
       "4  Petter Mattei's \"Love in the Time of Money\" is...  positive"
      ]
     },
     "execution_count": 114,
     "metadata": {},
     "output_type": "execute_result"
    }
   ],
   "source": [
    "df.head()"
   ]
  },
  {
   "cell_type": "code",
   "execution_count": 44,
   "id": "126721ef",
   "metadata": {},
   "outputs": [],
   "source": [
    "# Initialize blank spaCy English language model for tokenization\n",
    "nlp_for_tokenisation = spacy.blank(\"en\")\n",
    "tokenizer = nlp_for_tokenisation.tokenizer\n",
    "\n",
    "# Initialize spaCy English language model for lemmatization\n",
    "nlp_for_lemmatization = spacy.load(\"en_core_web_sm\",\n",
    "     disable = [\n",
    "        \"parser\",        # dependency parsing\n",
    "        \"ner\",           # named entity recognition\n",
    "        \"sentencizer\",   # sentence boundaries\n",
    "        \"textcat\",       # pretrained text classifier\n",
    "        \"entity_ruler\"   # rule-based entities\n",
    "    ])"
   ]
  },
  {
   "cell_type": "code",
   "execution_count": 46,
   "id": "feedcff9",
   "metadata": {},
   "outputs": [],
   "source": [
    "counter = Counter()\n",
    "\n",
    "html_patterns = ['<br', '<div', '<p', '</', '/>', 'br']\n",
    "punctuation = {',', '.', '\"', \"'\", '-', ':', ';', '(', ')', '[', ']', '{', '}', '...', '--', '—', '“', '”', '‘', '’', '<', '>', '!', '?', '@', '#', '$', '%', '^', '&', '*', '+', '=', '\\\\', '|', '~', '`', '–', '•', '…', '‹', '›', '..', '....'}\n",
    "for review in df['review']:   \n",
    "    tokens = [token.text.lower() for token in tokenizer(review)\n",
    "              if token.text.lower() not in nlp_for_tokenisation.Defaults.stop_words and token.text not in punctuation\n",
    "                and not any(pattern in token.text for pattern in html_patterns)\n",
    "              ]\n",
    "    counter.update(tokens)"
   ]
  },
  {
   "cell_type": "code",
   "execution_count": 117,
   "id": "70bd5377",
   "metadata": {},
   "outputs": [
    {
     "name": "stdout",
     "output_type": "stream",
     "text": [
      "[('movie', 86007), ('film', 78000), ('like', 39833), ('good', 29262), ('time', 24338), ('story', 22601), ('bad', 18078), ('people', 17904), ('great', 17883), ('way', 15248), ('movies', 14977), ('think', 14240), ('characters', 14179), ('character', 13691), ('watch', 13552), ('films', 13474), ('seen', 13146), ('love', 12840), ('plot', 12708), ('acting', 12631)]\n"
     ]
    }
   ],
   "source": [
    "# Most common tokens\n",
    "most_common = counter.most_common(20)\n",
    "print(most_common)"
   ]
  },
  {
   "cell_type": "code",
   "execution_count": 118,
   "id": "57190ea8",
   "metadata": {},
   "outputs": [],
   "source": [
    "df['token'] = df['review'].apply(\n",
    "    lambda review: [\n",
    "        token.text.lower() for token in tokenizer(review)\n",
    "        if token.text.lower() not in nlp_for_tokenisation.Defaults.stop_words\n",
    "        and token.text not in punctuation\n",
    "        and not any(pattern in token.text for pattern in html_patterns)\n",
    "    ]\n",
    ")\n",
    "\n",
    "df['lemma'] = df['review'].apply(\n",
    "    lambda review: [\n",
    "        token.lemma_.lower() for token in nlp_for_lemmatization(review)\n",
    "        if token.text.lower() not in nlp_for_tokenisation.Defaults.stop_words\n",
    "        and token.text not in punctuation\n",
    "        and not any(pattern in token.text for pattern in html_patterns)\n",
    "    ]\n",
    ")"
   ]
  },
  {
   "cell_type": "code",
   "execution_count": 119,
   "id": "733fa6dd",
   "metadata": {},
   "outputs": [
    {
     "name": "stdout",
     "output_type": "stream",
     "text": [
      "162\n",
      "76\n"
     ]
    }
   ],
   "source": [
    "print(len(df['review'][1].split()))\n",
    "print(len(df['token'][1]))"
   ]
  },
  {
   "cell_type": "code",
   "execution_count": 120,
   "id": "d212e6b3",
   "metadata": {},
   "outputs": [
    {
     "name": "stdout",
     "output_type": "stream",
     "text": [
      "original review : A wonderful little production. <br /><br />The filming technique is very unassuming- very old-time-BBC fashion and gives a comforting, and sometimes discomforting, sense of realism to the entire piece. <br /><br />The actors are extremely well chosen- Michael Sheen not only \"has got all the polari\" but he has all the voices down pat too! You can truly see the seamless editing guided by the references to Williams' diary entries, not only is it well worth the watching but it is a terrificly written and performed piece. A masterful production about one of the great master's of comedy and his life. <br /><br />The realism really comes home with the little things: the fantasy of the guard which, rather than use the traditional 'dream' techniques remains solid then disappears. It plays on our knowledge and our senses, particularly with the scenes concerning Orton and Halliwell and the sets (particularly of their flat with Halliwell's murals decorating every surface) are terribly well done.\n",
      "VS\n",
      "tokenized review : ['wonderful', 'little', 'production', 'filming', 'technique', 'unassuming-', 'old', 'time', 'bbc', 'fashion', 'gives', 'comforting', 'discomforting', 'sense', 'realism', 'entire', 'piece', 'actors', 'extremely', 'chosen-', 'michael', 'sheen', 'got', 'polari', 'voices', 'pat', 'truly', 'seamless', 'editing', 'guided', 'references', 'williams', 'diary', 'entries', 'worth', 'watching', 'terrificly', 'written', 'performed', 'piece', 'masterful', 'production', 'great', 'master', 'comedy', 'life', 'realism', 'comes', 'home', 'little', 'things', 'fantasy', 'guard', 'use', 'traditional', 'dream', 'techniques', 'remains', 'solid', 'disappears', 'plays', 'knowledge', 'senses', 'particularly', 'scenes', 'concerning', 'orton', 'halliwell', 'sets', 'particularly', 'flat', 'halliwell', 'murals', 'decorating', 'surface', 'terribly']\n",
      "VS\n",
      "lemmetized review : ['wonderful', 'little', 'production', 'filming', 'technique', 'unassuming-', 'old', 'time', 'bbc', 'fashion', 'give', 'comforting', 'discomforte', 'sense', 'realism', 'entire', 'piece', 'actor', 'extremely', 'chosen-', 'michael', 'sheen', 'get', 'polari', 'voice', 'pat', 'truly', 'seamless', 'editing', 'guide', 'reference', 'williams', 'diary', 'entry', 'worth', 'watching', 'terrificly', 'write', 'perform', 'piece', 'masterful', 'production', 'great', 'master', 'comedy', 'life', 'realism', 'come', 'home', 'little', 'thing', 'fantasy', 'guard', 'use', 'traditional', 'dream', 'technique', 'remain', 'solid', 'disappear', 'play', 'knowledge', 'sense', 'particularly', 'scene', 'concern', 'orton', 'halliwell', 'set', 'particularly', 'flat', 'halliwell', 'mural', 'decorate', 'surface', 'terribly']\n"
     ]
    }
   ],
   "source": [
    "print(f\"original review : {tokenizer(df['review'][1]).text}\") \n",
    "print('VS')\n",
    "print(f\"tokenized review : {df['token'][1]}\") \n",
    "print('VS')\n",
    "print(f\"lemmetized review : {df['lemma'][1]}\")\n"
   ]
  },
  {
   "cell_type": "code",
   "execution_count": 121,
   "id": "5f7ef4be",
   "metadata": {},
   "outputs": [
    {
     "data": {
      "application/vnd.microsoft.datawrangler.viewer.v0+json": {
       "columns": [
        {
         "name": "index",
         "rawType": "int64",
         "type": "integer"
        },
        {
         "name": "review",
         "rawType": "object",
         "type": "string"
        },
        {
         "name": "sentiment",
         "rawType": "object",
         "type": "string"
        },
        {
         "name": "token",
         "rawType": "object",
         "type": "unknown"
        },
        {
         "name": "lemma",
         "rawType": "object",
         "type": "unknown"
        }
       ],
       "ref": "5401c535-0873-498b-b598-ba38a5b4593b",
       "rows": [
        [
         "0",
         "One of the other reviewers has mentioned that after watching just 1 Oz episode you'll be hooked. They are right, as this is exactly what happened with me.<br /><br />The first thing that struck me about Oz was its brutality and unflinching scenes of violence, which set in right from the word GO. Trust me, this is not a show for the faint hearted or timid. This show pulls no punches with regards to drugs, sex or violence. Its is hardcore, in the classic use of the word.<br /><br />It is called OZ as that is the nickname given to the Oswald Maximum Security State Penitentary. It focuses mainly on Emerald City, an experimental section of the prison where all the cells have glass fronts and face inwards, so privacy is not high on the agenda. Em City is home to many..Aryans, Muslims, gangstas, Latinos, Christians, Italians, Irish and more....so scuffles, death stares, dodgy dealings and shady agreements are never far away.<br /><br />I would say the main appeal of the show is due to the fact that it goes where other shows wouldn't dare. Forget pretty pictures painted for mainstream audiences, forget charm, forget romance...OZ doesn't mess around. The first episode I ever saw struck me as so nasty it was surreal, I couldn't say I was ready for it, but as I watched more, I developed a taste for Oz, and got accustomed to the high levels of graphic violence. Not just violence, but injustice (crooked guards who'll be sold out for a nickel, inmates who'll kill on order and get away with it, well mannered, middle class inmates being turned into prison bitches due to their lack of street skills or prison experience) Watching Oz, you may become comfortable with what is uncomfortable viewing....thats if you can get in touch with your darker side.",
         "positive",
         "['reviewers', 'mentioned', 'watching', '1', 'oz', 'episode', 'hooked', 'right', 'exactly', 'happened', 'thing', 'struck', 'oz', 'unflinching', 'scenes', 'violence', 'set', 'right', 'word', 'trust', 'faint', 'hearted', 'timid', 'pulls', 'punches', 'regards', 'drugs', 'sex', 'violence', 'hardcore', 'classic', 'use', 'called', 'oz', 'nickname', 'given', 'oswald', 'maximum', 'security', 'state', 'penitentary', 'focuses', 'mainly', 'emerald', 'city', 'experimental', 'section', 'prison', 'cells', 'glass', 'fronts', 'face', 'inwards', 'privacy', 'high', 'agenda', 'em', 'city', 'home', 'aryans', 'muslims', 'gangstas', 'latinos', 'christians', 'italians', 'irish', 'scuffles', 'death', 'stares', 'dodgy', 'dealings', 'shady', 'agreements', 'far', 'main', 'appeal', 'fact', 'goes', 'shows', 'dare', 'forget', 'pretty', 'pictures', 'painted', 'mainstream', 'audiences', 'forget', 'charm', 'forget', 'romance', 'oz', 'mess', 'episode', 'saw', 'struck', 'nasty', 'surreal', 'ready', 'watched', 'developed', 'taste', 'oz', 'got', 'accustomed', 'high', 'levels', 'graphic', 'violence', 'violence', 'injustice', 'crooked', 'guards', 'sold', 'nickel', 'inmates', 'kill', 'order', 'away', 'mannered', 'middle', 'class', 'inmates', 'turned', 'prison', 'bitches', 'lack', 'street', 'skills', 'prison', 'experience', 'watching', 'oz', 'comfortable', 'uncomfortable', 'viewing', 'thats', 'touch', 'darker']",
         "['reviewer', 'mention', 'watch', '1', 'oz', 'episode', 'hook', 'right', 'exactly', 'happen', 'thing', 'strike', 'oz', 'unflinche', 'scene', 'violence', 'set', 'right', 'word', 'trust', 'faint', 'hearted', 'timid', 'pull', 'punch', 'regard', 'drug', 'sex', 'violence', 'hardcore', 'classic', 'use', 'call', 'oz', 'nickname', 'give', 'oswald', 'maximum', 'security', 'state', 'penitentary', 'focus', 'mainly', 'emerald', 'city', 'experimental', 'section', 'prison', 'cell', 'glass', 'front', 'face', 'inward', 'privacy', 'high', 'agenda', 'em', 'city', 'home', 'aryans', 'muslims', 'gangsta', 'latinos', 'christians', 'italians', 'irish', 'scuffle', 'death', 'stare', 'dodgy', 'dealing', 'shady', 'agreement', 'far', 'main', 'appeal', 'fact', 'go', 'show', 'dare', 'forget', 'pretty', 'picture', 'paint', 'mainstream', 'audience', 'forget', 'charm', 'forget', 'romance', 'oz', 'mess', 'episode', 'see', 'strike', 'nasty', 'surreal', 'ready', 'watch', 'develop', 'taste', 'oz', 'get', 'accustom', 'high', 'level', 'graphic', 'violence', 'violence', 'injustice', 'crooked', 'guard', 'sell', 'nickel', 'inmate', 'kill', 'order', 'away', 'mannered', 'middle', 'class', 'inmate', 'turn', 'prison', 'bitch', 'lack', 'street', 'skill', 'prison', 'experience', 'watch', 'oz', 'comfortable', 'uncomfortable', 'view', 'that', 'touch', 'dark']"
        ],
        [
         "1",
         "A wonderful little production. <br /><br />The filming technique is very unassuming- very old-time-BBC fashion and gives a comforting, and sometimes discomforting, sense of realism to the entire piece. <br /><br />The actors are extremely well chosen- Michael Sheen not only \"has got all the polari\" but he has all the voices down pat too! You can truly see the seamless editing guided by the references to Williams' diary entries, not only is it well worth the watching but it is a terrificly written and performed piece. A masterful production about one of the great master's of comedy and his life. <br /><br />The realism really comes home with the little things: the fantasy of the guard which, rather than use the traditional 'dream' techniques remains solid then disappears. It plays on our knowledge and our senses, particularly with the scenes concerning Orton and Halliwell and the sets (particularly of their flat with Halliwell's murals decorating every surface) are terribly well done.",
         "positive",
         "['wonderful', 'little', 'production', 'filming', 'technique', 'unassuming-', 'old', 'time', 'bbc', 'fashion', 'gives', 'comforting', 'discomforting', 'sense', 'realism', 'entire', 'piece', 'actors', 'extremely', 'chosen-', 'michael', 'sheen', 'got', 'polari', 'voices', 'pat', 'truly', 'seamless', 'editing', 'guided', 'references', 'williams', 'diary', 'entries', 'worth', 'watching', 'terrificly', 'written', 'performed', 'piece', 'masterful', 'production', 'great', 'master', 'comedy', 'life', 'realism', 'comes', 'home', 'little', 'things', 'fantasy', 'guard', 'use', 'traditional', 'dream', 'techniques', 'remains', 'solid', 'disappears', 'plays', 'knowledge', 'senses', 'particularly', 'scenes', 'concerning', 'orton', 'halliwell', 'sets', 'particularly', 'flat', 'halliwell', 'murals', 'decorating', 'surface', 'terribly']",
         "['wonderful', 'little', 'production', 'filming', 'technique', 'unassuming-', 'old', 'time', 'bbc', 'fashion', 'give', 'comforting', 'discomforte', 'sense', 'realism', 'entire', 'piece', 'actor', 'extremely', 'chosen-', 'michael', 'sheen', 'get', 'polari', 'voice', 'pat', 'truly', 'seamless', 'editing', 'guide', 'reference', 'williams', 'diary', 'entry', 'worth', 'watching', 'terrificly', 'write', 'perform', 'piece', 'masterful', 'production', 'great', 'master', 'comedy', 'life', 'realism', 'come', 'home', 'little', 'thing', 'fantasy', 'guard', 'use', 'traditional', 'dream', 'technique', 'remain', 'solid', 'disappear', 'play', 'knowledge', 'sense', 'particularly', 'scene', 'concern', 'orton', 'halliwell', 'set', 'particularly', 'flat', 'halliwell', 'mural', 'decorate', 'surface', 'terribly']"
        ],
        [
         "2",
         "I thought this was a wonderful way to spend time on a too hot summer weekend, sitting in the air conditioned theater and watching a light-hearted comedy. The plot is simplistic, but the dialogue is witty and the characters are likable (even the well bread suspected serial killer). While some may be disappointed when they realize this is not Match Point 2: Risk Addiction, I thought it was proof that Woody Allen is still fully in control of the style many of us have grown to love.<br /><br />This was the most I'd laughed at one of Woody's comedies in years (dare I say a decade?). While I've never been impressed with Scarlet Johanson, in this she managed to tone down her \"sexy\" image and jumped right into a average, but spirited young woman.<br /><br />This may not be the crown jewel of his career, but it was wittier than \"Devil Wears Prada\" and more interesting than \"Superman\" a great comedy to go see with friends.",
         "positive",
         "['thought', 'wonderful', 'way', 'spend', 'time', 'hot', 'summer', 'weekend', 'sitting', 'air', 'conditioned', 'theater', 'watching', 'light', 'hearted', 'comedy', 'plot', 'simplistic', 'dialogue', 'witty', 'characters', 'likable', 'suspected', 'serial', 'killer', 'disappointed', 'realize', 'match', 'point', '2', 'risk', 'addiction', 'thought', 'proof', 'woody', 'allen', 'fully', 'control', 'style', 'grown', 'laughed', 'woody', 'comedies', 'years', 'dare', 'decade', 'impressed', 'scarlet', 'johanson', 'managed', 'tone', 'sexy', 'image', 'jumped', 'right', 'average', 'spirited', 'young', 'crown', 'jewel', 'career', 'wittier', 'devil', 'wears', 'prada', 'interesting', 'superman', 'great', 'comedy', 'friends']",
         "['think', 'wonderful', 'way', 'spend', 'time', 'hot', 'summer', 'weekend', 'sit', 'air', 'condition', 'theater', 'watch', 'light', 'hearted', 'comedy', 'plot', 'simplistic', 'dialogue', 'witty', 'character', 'likable', 'suspect', 'serial', 'killer', 'disappoint', 'realize', 'match', 'point', '2', 'risk', 'addiction', 'think', 'proof', 'woody', 'allen', 'fully', 'control', 'style', 'grow', 'laugh', 'woody', 'comedy', 'year', 'dare', 'decade', 'impress', 'scarlet', 'johanson', 'manage', 'tone', 'sexy', 'image', 'jump', 'right', 'average', 'spirited', 'young', 'crown', 'jewel', 'career', 'witty', 'devil', 'wears', 'prada', 'interesting', 'superman', 'great', 'comedy', 'friend']"
        ],
        [
         "3",
         "Basically there's a family where a little boy (Jake) thinks there's a zombie in his closet & his parents are fighting all the time.<br /><br />This movie is slower than a soap opera... and suddenly, Jake decides to become Rambo and kill the zombie.<br /><br />OK, first of all when you're going to make a film you must Decide if its a thriller or a drama! As a drama the movie is watchable. Parents are divorcing & arguing like in real life. And then we have Jake with his closet which totally ruins all the film! I expected to see a BOOGEYMAN similar movie, and instead i watched a drama with some meaningless thriller spots.<br /><br />3 out of 10 just for the well playing parents & descent dialogs. As for the shots with Jake: just ignore them.",
         "negative",
         "['basically', 'family', 'little', 'boy', 'jake', 'thinks', 'zombie', 'closet', 'parents', 'fighting', 'movie', 'slower', 'soap', 'opera', 'suddenly', 'jake', 'decides', 'rambo', 'kill', 'going', 'film', 'decide', 'thriller', 'drama', 'drama', 'movie', 'watchable', 'parents', 'divorcing', 'arguing', 'like', 'real', 'life', 'jake', 'closet', 'totally', 'ruins', 'film', 'expected', 'boogeyman', 'similar', 'movie', 'instead', 'watched', 'drama', 'meaningless', 'thriller', '10', 'playing', 'parents', 'descent', 'dialogs', 'shots', 'jake', 'ignore']",
         "['basically', 'family', 'little', 'boy', 'jake', 'think', 'zombie', 'closet', 'parent', 'fight', 'movie', 'slow', 'soap', 'opera', 'suddenly', 'jake', 'decide', 'rambo', 'kill', 'go', 'film', 'decide', 'thriller', 'drama', 'drama', 'movie', 'watchable', 'parent', 'divorce', 'argue', 'like', 'real', 'life', 'jake', 'closet', 'totally', 'ruin', 'film', 'expect', 'boogeyman', 'similar', 'movie', 'instead', 'watch', 'drama', 'meaningless', 'thriller', '10', 'play', 'parent', 'descent', 'dialog', 'shot', 'jake', 'ignore']"
        ],
        [
         "4",
         "Petter Mattei's \"Love in the Time of Money\" is a visually stunning film to watch. Mr. Mattei offers us a vivid portrait about human relations. This is a movie that seems to be telling us what money, power and success do to people in the different situations we encounter. <br /><br />This being a variation on the Arthur Schnitzler's play about the same theme, the director transfers the action to the present time New York where all these different characters meet and connect. Each one is connected in one way, or another to the next person, but no one seems to know the previous point of contact. Stylishly, the film has a sophisticated luxurious look. We are taken to see how these people live and the world they live in their own habitat.<br /><br />The only thing one gets out of all these souls in the picture is the different stages of loneliness each one inhabits. A big city is not exactly the best place in which human relations find sincere fulfillment, as one discerns is the case with most of the people we encounter.<br /><br />The acting is good under Mr. Mattei's direction. Steve Buscemi, Rosario Dawson, Carol Kane, Michael Imperioli, Adrian Grenier, and the rest of the talented cast, make these characters come alive.<br /><br />We wish Mr. Mattei good luck and await anxiously for his next work.",
         "positive",
         "['petter', 'mattei', 'love', 'time', 'money', 'visually', 'stunning', 'film', 'watch', 'mr.', 'mattei', 'offers', 'vivid', 'portrait', 'human', 'relations', 'movie', 'telling', 'money', 'power', 'success', 'people', 'different', 'situations', 'encounter', 'variation', 'arthur', 'schnitzler', 'play', 'theme', 'director', 'transfers', 'action', 'present', 'time', 'new', 'york', 'different', 'characters', 'meet', 'connect', 'connected', 'way', 'person', 'know', 'previous', 'point', 'contact', 'stylishly', 'film', 'sophisticated', 'luxurious', 'look', 'taken', 'people', 'live', 'world', 'live', 'thing', 'gets', 'souls', 'picture', 'different', 'stages', 'loneliness', 'inhabits', 'big', 'city', 'exactly', 'best', 'place', 'human', 'relations', 'find', 'sincere', 'fulfillment', 'discerns', 'case', 'people', 'acting', 'good', 'mr.', 'mattei', 'direction', 'steve', 'buscemi', 'rosario', 'dawson', 'carol', 'kane', 'michael', 'imperioli', 'adrian', 'grenier', 'rest', 'talented', 'cast', 'characters', 'come', 'wish', 'mr.', 'mattei', 'good', 'luck', 'await', 'anxiously', 'work']",
         "['petter', 'mattei', 'love', 'time', 'money', 'visually', 'stunning', 'film', 'watch', 'mr.', 'mattei', 'offer', 'vivid', 'portrait', 'human', 'relation', 'movie', 'tell', 'money', 'power', 'success', 'people', 'different', 'situation', 'encounter', 'variation', 'arthur', 'schnitzler', 'play', 'theme', 'director', 'transfer', 'action', 'present', 'time', 'new', 'york', 'different', 'character', 'meet', 'connect', 'connect', 'way', 'person', 'know', 'previous', 'point', 'contact', 'stylishly', 'film', 'sophisticated', 'luxurious', 'look', 'take', 'people', 'live', 'world', 'live', 'thing', 'get', 'soul', 'picture', 'different', 'stage', 'loneliness', 'inhabit', 'big', 'city', 'exactly', 'good', 'place', 'human', 'relation', 'find', 'sincere', 'fulfillment', 'discern', 'case', 'people', 'act', 'good', 'mr.', 'mattei', 'direction', 'steve', 'buscemi', 'rosario', 'dawson', 'carol', 'kane', 'michael', 'imperioli', 'adrian', 'grenier', 'rest', 'talented', 'cast', 'character', 'come', 'wish', 'mr.', 'mattei', 'good', 'luck', 'await', 'anxiously', 'work']"
        ]
       ],
       "shape": {
        "columns": 4,
        "rows": 5
       }
      },
      "text/html": [
       "<div>\n",
       "<style scoped>\n",
       "    .dataframe tbody tr th:only-of-type {\n",
       "        vertical-align: middle;\n",
       "    }\n",
       "\n",
       "    .dataframe tbody tr th {\n",
       "        vertical-align: top;\n",
       "    }\n",
       "\n",
       "    .dataframe thead th {\n",
       "        text-align: right;\n",
       "    }\n",
       "</style>\n",
       "<table border=\"1\" class=\"dataframe\">\n",
       "  <thead>\n",
       "    <tr style=\"text-align: right;\">\n",
       "      <th></th>\n",
       "      <th>review</th>\n",
       "      <th>sentiment</th>\n",
       "      <th>token</th>\n",
       "      <th>lemma</th>\n",
       "    </tr>\n",
       "  </thead>\n",
       "  <tbody>\n",
       "    <tr>\n",
       "      <th>0</th>\n",
       "      <td>One of the other reviewers has mentioned that ...</td>\n",
       "      <td>positive</td>\n",
       "      <td>[reviewers, mentioned, watching, 1, oz, episod...</td>\n",
       "      <td>[reviewer, mention, watch, 1, oz, episode, hoo...</td>\n",
       "    </tr>\n",
       "    <tr>\n",
       "      <th>1</th>\n",
       "      <td>A wonderful little production. &lt;br /&gt;&lt;br /&gt;The...</td>\n",
       "      <td>positive</td>\n",
       "      <td>[wonderful, little, production, filming, techn...</td>\n",
       "      <td>[wonderful, little, production, filming, techn...</td>\n",
       "    </tr>\n",
       "    <tr>\n",
       "      <th>2</th>\n",
       "      <td>I thought this was a wonderful way to spend ti...</td>\n",
       "      <td>positive</td>\n",
       "      <td>[thought, wonderful, way, spend, time, hot, su...</td>\n",
       "      <td>[think, wonderful, way, spend, time, hot, summ...</td>\n",
       "    </tr>\n",
       "    <tr>\n",
       "      <th>3</th>\n",
       "      <td>Basically there's a family where a little boy ...</td>\n",
       "      <td>negative</td>\n",
       "      <td>[basically, family, little, boy, jake, thinks,...</td>\n",
       "      <td>[basically, family, little, boy, jake, think, ...</td>\n",
       "    </tr>\n",
       "    <tr>\n",
       "      <th>4</th>\n",
       "      <td>Petter Mattei's \"Love in the Time of Money\" is...</td>\n",
       "      <td>positive</td>\n",
       "      <td>[petter, mattei, love, time, money, visually, ...</td>\n",
       "      <td>[petter, mattei, love, time, money, visually, ...</td>\n",
       "    </tr>\n",
       "  </tbody>\n",
       "</table>\n",
       "</div>"
      ],
      "text/plain": [
       "                                              review sentiment  \\\n",
       "0  One of the other reviewers has mentioned that ...  positive   \n",
       "1  A wonderful little production. <br /><br />The...  positive   \n",
       "2  I thought this was a wonderful way to spend ti...  positive   \n",
       "3  Basically there's a family where a little boy ...  negative   \n",
       "4  Petter Mattei's \"Love in the Time of Money\" is...  positive   \n",
       "\n",
       "                                               token  \\\n",
       "0  [reviewers, mentioned, watching, 1, oz, episod...   \n",
       "1  [wonderful, little, production, filming, techn...   \n",
       "2  [thought, wonderful, way, spend, time, hot, su...   \n",
       "3  [basically, family, little, boy, jake, thinks,...   \n",
       "4  [petter, mattei, love, time, money, visually, ...   \n",
       "\n",
       "                                               lemma  \n",
       "0  [reviewer, mention, watch, 1, oz, episode, hoo...  \n",
       "1  [wonderful, little, production, filming, techn...  \n",
       "2  [think, wonderful, way, spend, time, hot, summ...  \n",
       "3  [basically, family, little, boy, jake, think, ...  \n",
       "4  [petter, mattei, love, time, money, visually, ...  "
      ]
     },
     "execution_count": 121,
     "metadata": {},
     "output_type": "execute_result"
    }
   ],
   "source": [
    "df.head()   "
   ]
  },
  {
   "cell_type": "code",
   "execution_count": 35,
   "id": "1f54f4e4",
   "metadata": {},
   "outputs": [],
   "source": [
    "df.to_csv(r\"C:\\Users\\seifa\\Desktop\\Python\\Beginner_natural_language_processing\\iMDB-50k\\preprocessed_imdb_50k.csv\", index=False)"
   ]
  },
  {
   "cell_type": "code",
   "execution_count": 2,
   "id": "bba952da",
   "metadata": {},
   "outputs": [],
   "source": [
    "import pandas as pd\n",
    "from sklearn.feature_extraction.text import TfidfVectorizer\n",
    "from sklearn.model_selection import train_test_split\n",
    "import ast\n",
    "from sklearn.svm import LinearSVC\n",
    "from sklearn.linear_model import LogisticRegression\n",
    "from sklearn.metrics import accuracy_score, classification_report"
   ]
  },
  {
   "cell_type": "code",
   "execution_count": 3,
   "id": "6f152282",
   "metadata": {},
   "outputs": [],
   "source": [
    "df=pd.read_csv(r\"C:\\Users\\seifa\\Desktop\\Python\\Beginner_natural_language_processing\\iMDB-50k\\preprocessed_imdb_50k.csv\")"
   ]
  },
  {
   "cell_type": "code",
   "execution_count": 4,
   "id": "bd0cb2fe",
   "metadata": {},
   "outputs": [
    {
     "name": "stdout",
     "output_type": "stream",
     "text": [
      "type of the 'lemma' column before conversion: <class 'str'>\n",
      "type of the 'lemma' column after conversion: <class 'list'>\n"
     ]
    }
   ],
   "source": [
    "print(f\"type of the 'lemma' column before conversion: {type(df['lemma'].iloc[0])}\")\n",
    "\n",
    "# Convert stringified lists back into actual lists\n",
    "df['lemma'] = df['lemma'].apply(ast.literal_eval)\n",
    "\n",
    "print(f\"type of the 'lemma' column after conversion: {type(df['lemma'].iloc[0])}\")\n",
    "\n",
    "# TfidfVectorizer expects strings, not lists of tokens.\n",
    "df['clean_text'] = df['lemma'].apply(lambda tokens: \" \".join(tokens))"
   ]
  },
  {
   "cell_type": "code",
   "execution_count": 5,
   "id": "89a74559",
   "metadata": {},
   "outputs": [],
   "source": [
    "def data_split(df):\n",
    "    X_train, X_test, y_train, y_test = train_test_split(\n",
    "        df['clean_text'],  \n",
    "        df['sentiment'].map({'positive': 1, 'negative': 0}),\n",
    "        test_size=0.2,\n",
    "        random_state=42\n",
    "    )\n",
    "    return X_train, X_test, y_train, y_test"
   ]
  },
  {
   "cell_type": "code",
   "execution_count": 6,
   "id": "467d5f4b",
   "metadata": {},
   "outputs": [],
   "source": [
    "def tfidf_vectorization(X_train, X_test, max_features):\n",
    "    vectorizer = TfidfVectorizer(max_features=max_features)\n",
    "    X_train_tfidf = vectorizer.fit_transform(X_train)  # fit only on train\n",
    "    X_test_tfidf = vectorizer.transform(X_test)        # transform test\n",
    "    return X_train_tfidf, X_test_tfidf, vectorizer"
   ]
  },
  {
   "cell_type": "code",
   "execution_count": 8,
   "id": "19c7ae09",
   "metadata": {},
   "outputs": [
    {
     "name": "stdout",
     "output_type": "stream",
     "text": [
      "Training with Model: LogisticRegression, 2000 features...\n",
      "Accuracy: 0.8745\n",
      "Training with Model: LinearSVC, 2000 features...\n",
      "Accuracy: 0.8698\n",
      "Training with Model: LogisticRegression, 5000 features...\n",
      "Accuracy: 0.8798\n",
      "Training with Model: LinearSVC, 5000 features...\n",
      "Accuracy: 0.8737\n",
      "Training with Model: LogisticRegression, 10000 features...\n",
      "Accuracy: 0.8855\n",
      "Training with Model: LinearSVC, 10000 features...\n",
      "Accuracy: 0.8777\n",
      "Training with Model: LogisticRegression, 50000 features...\n",
      "Accuracy: 0.8888\n",
      "Training with Model: LinearSVC, 50000 features...\n",
      "Accuracy: 0.8876\n"
     ]
    }
   ],
   "source": [
    "features = [2000, 5000, 10000, 50000] \n",
    "model = ['LogisticRegression', 'LinearSVC' ]\n",
    "results = {}\n",
    "\n",
    "def train(df):\n",
    "    X_train, X_test, y_train, y_test = data_split(df)\n",
    "\n",
    "    for feature in features:\n",
    "        X_train_tfidf, X_test_tfidf, vectorizer = tfidf_vectorization(X_train, X_test, max_features=feature)\n",
    "\n",
    "        for m in model:\n",
    "            if m == 'LogisticRegression':\n",
    "                clf = LogisticRegression(max_iter=1000)\n",
    "            elif m == 'LinearSVC':\n",
    "                clf = LinearSVC()\n",
    "\n",
    "            clf.fit(X_train_tfidf, y_train)\n",
    "            y_pred = clf.predict(X_test_tfidf)\n",
    "            acc = accuracy_score(y_test, y_pred)\n",
    "            results[(m, feature)] = {\n",
    "                                    \"accuracy\": acc,\n",
    "                                    \"report\": classification_report(y_test, y_pred),\n",
    "                                    \"vectorizer\": vectorizer,\n",
    "                                    \"model\": clf\n",
    "                        }\n",
    "            print(f\"Training with Model: {m}, {feature} features...\")\n",
    "            print(\"Accuracy:\", acc)\n",
    "train(df)"
   ]
  },
  {
   "cell_type": "code",
   "execution_count": 9,
   "id": "254a3ab1",
   "metadata": {},
   "outputs": [
    {
     "name": "stdout",
     "output_type": "stream",
     "text": [
      "Best Model: LogisticRegression, max_features=50000\n",
      "Accuracy: 0.8888\n",
      "              precision    recall  f1-score   support\n",
      "\n",
      "           0       0.90      0.87      0.89      4961\n",
      "           1       0.88      0.91      0.89      5039\n",
      "\n",
      "    accuracy                           0.89     10000\n",
      "   macro avg       0.89      0.89      0.89     10000\n",
      "weighted avg       0.89      0.89      0.89     10000\n",
      "\n"
     ]
    }
   ],
   "source": [
    "best_key = max(results, key=lambda k: results[k][\"accuracy\"])\n",
    "best_acc = results[best_key][\"accuracy\"]\n",
    "best_report = results[best_key][\"report\"]\n",
    "print(f\"Best Model: {best_key[0]}, max_features={best_key[1]}\")\n",
    "print(\"Accuracy:\", best_acc)\n",
    "print(best_report)"
   ]
  },
  {
   "cell_type": "code",
   "execution_count": null,
   "id": "0011b236",
   "metadata": {},
   "outputs": [
    {
     "name": "stdout",
     "output_type": "stream",
     "text": [
      "Predicted sentiment: positive\n"
     ]
    }
   ],
   "source": [
    "# Example new review\n",
    "new_text = \"This movie was thrilling and full of suspense.\"\n",
    "\n",
    "\n",
    "vectorizer = results[best_key][\"vectorizer\"]\n",
    "clf = results[best_key][\"model\"]\n",
    "\n",
    "# Preprocess: tokenize, remove stopwords/punctuation, lemmatize\n",
    "tokens = [token.lemma_.lower() for token in nlp_for_lemmatization(new_text)\n",
    "          if token.text.lower() not in nlp_for_tokenisation.Defaults.stop_words\n",
    "          and token.text not in punctuation\n",
    "          and not any(pattern in token.text for pattern in html_patterns)]\n",
    "\n",
    "clean_text = \" \".join(tokens)\n",
    "\n",
    "# Transform with TF-IDF vectorizer (same as trained)\n",
    "X_new = vectorizer.transform([clean_text])\n",
    "\n",
    "# Predict with best classifier\n",
    "pred = clf.predict(X_new)  # best_clf = trained classifier\n",
    "print(\"Predicted sentiment:\", \"positive\" if pred[0] == 1 else \"negative\")\n"
   ]
  },
  {
   "cell_type": "code",
   "execution_count": 16,
   "id": "473cc742",
   "metadata": {},
   "outputs": [],
   "source": [
    "import pandas as pd\n",
    "import numpy as np\n",
    "import torch\n",
    "from torch.utils.data import Dataset, DataLoader, random_split\n",
    "import torch.nn as nn\n",
    "from collections import Counter\n",
    "import ast\n",
    "import time\n",
    "\n"
   ]
  },
  {
   "cell_type": "code",
   "execution_count": 2,
   "id": "18b2ba49",
   "metadata": {},
   "outputs": [
    {
     "data": {
      "application/vnd.microsoft.datawrangler.viewer.v0+json": {
       "columns": [
        {
         "name": "index",
         "rawType": "int64",
         "type": "integer"
        },
        {
         "name": "review",
         "rawType": "object",
         "type": "string"
        },
        {
         "name": "sentiment",
         "rawType": "int64",
         "type": "integer"
        },
        {
         "name": "token",
         "rawType": "object",
         "type": "unknown"
        },
        {
         "name": "lemma",
         "rawType": "object",
         "type": "string"
        }
       ],
       "ref": "4c887c76-d004-4559-bbbf-990d9bed0f88",
       "rows": [
        [
         "0",
         "One of the other reviewers has mentioned that after watching just 1 Oz episode you'll be hooked. They are right, as this is exactly what happened with me.<br /><br />The first thing that struck me about Oz was its brutality and unflinching scenes of violence, which set in right from the word GO. Trust me, this is not a show for the faint hearted or timid. This show pulls no punches with regards to drugs, sex or violence. Its is hardcore, in the classic use of the word.<br /><br />It is called OZ as that is the nickname given to the Oswald Maximum Security State Penitentary. It focuses mainly on Emerald City, an experimental section of the prison where all the cells have glass fronts and face inwards, so privacy is not high on the agenda. Em City is home to many..Aryans, Muslims, gangstas, Latinos, Christians, Italians, Irish and more....so scuffles, death stares, dodgy dealings and shady agreements are never far away.<br /><br />I would say the main appeal of the show is due to the fact that it goes where other shows wouldn't dare. Forget pretty pictures painted for mainstream audiences, forget charm, forget romance...OZ doesn't mess around. The first episode I ever saw struck me as so nasty it was surreal, I couldn't say I was ready for it, but as I watched more, I developed a taste for Oz, and got accustomed to the high levels of graphic violence. Not just violence, but injustice (crooked guards who'll be sold out for a nickel, inmates who'll kill on order and get away with it, well mannered, middle class inmates being turned into prison bitches due to their lack of street skills or prison experience) Watching Oz, you may become comfortable with what is uncomfortable viewing....thats if you can get in touch with your darker side.",
         "1",
         "['reviewers', 'mentioned', 'watching', '1', 'oz', 'episode', 'hooked', 'right', 'exactly', 'happened', 'thing', 'struck', 'oz', 'unflinching', 'scenes', 'violence', 'set', 'right', 'word', 'trust', 'faint', 'hearted', 'timid', 'pulls', 'punches', 'regards', 'drugs', 'sex', 'violence', 'hardcore', 'classic', 'use', 'called', 'oz', 'nickname', 'given', 'oswald', 'maximum', 'security', 'state', 'penitentary', 'focuses', 'mainly', 'emerald', 'city', 'experimental', 'section', 'prison', 'cells', 'glass', 'fronts', 'face', 'inwards', 'privacy', 'high', 'agenda', 'em', 'city', 'home', 'aryans', 'muslims', 'gangstas', 'latinos', 'christians', 'italians', 'irish', 'scuffles', 'death', 'stares', 'dodgy', 'dealings', 'shady', 'agreements', 'far', 'main', 'appeal', 'fact', 'goes', 'shows', 'dare', 'forget', 'pretty', 'pictures', 'painted', 'mainstream', 'audiences', 'forget', 'charm', 'forget', 'romance', 'oz', 'mess', 'episode', 'saw', 'struck', 'nasty', 'surreal', 'ready', 'watched', 'developed', 'taste', 'oz', 'got', 'accustomed', 'high', 'levels', 'graphic', 'violence', 'violence', 'injustice', 'crooked', 'guards', 'sold', 'nickel', 'inmates', 'kill', 'order', 'away', 'mannered', 'middle', 'class', 'inmates', 'turned', 'prison', 'bitches', 'lack', 'street', 'skills', 'prison', 'experience', 'watching', 'oz', 'comfortable', 'uncomfortable', 'viewing', 'thats', 'touch', 'darker']",
         "['reviewer', 'mention', 'watch', '1', 'oz', 'episode', 'hook', 'right', 'exactly', 'happen', 'thing', 'strike', 'oz', 'unflinche', 'scene', 'violence', 'set', 'right', 'word', 'trust', 'faint', 'hearted', 'timid', 'pull', 'punch', 'regard', 'drug', 'sex', 'violence', 'hardcore', 'classic', 'use', 'call', 'oz', 'nickname', 'give', 'oswald', 'maximum', 'security', 'state', 'penitentary', 'focus', 'mainly', 'emerald', 'city', 'experimental', 'section', 'prison', 'cell', 'glass', 'front', 'face', 'inward', 'privacy', 'high', 'agenda', 'em', 'city', 'home', 'aryans', 'muslims', 'gangsta', 'latinos', 'christians', 'italians', 'irish', 'scuffle', 'death', 'stare', 'dodgy', 'dealing', 'shady', 'agreement', 'far', 'main', 'appeal', 'fact', 'go', 'show', 'dare', 'forget', 'pretty', 'picture', 'paint', 'mainstream', 'audience', 'forget', 'charm', 'forget', 'romance', 'oz', 'mess', 'episode', 'see', 'strike', 'nasty', 'surreal', 'ready', 'watch', 'develop', 'taste', 'oz', 'get', 'accustom', 'high', 'level', 'graphic', 'violence', 'violence', 'injustice', 'crooked', 'guard', 'sell', 'nickel', 'inmate', 'kill', 'order', 'away', 'mannered', 'middle', 'class', 'inmate', 'turn', 'prison', 'bitch', 'lack', 'street', 'skill', 'prison', 'experience', 'watch', 'oz', 'comfortable', 'uncomfortable', 'view', 'that', 'touch', 'dark']"
        ],
        [
         "1",
         "A wonderful little production. <br /><br />The filming technique is very unassuming- very old-time-BBC fashion and gives a comforting, and sometimes discomforting, sense of realism to the entire piece. <br /><br />The actors are extremely well chosen- Michael Sheen not only \"has got all the polari\" but he has all the voices down pat too! You can truly see the seamless editing guided by the references to Williams' diary entries, not only is it well worth the watching but it is a terrificly written and performed piece. A masterful production about one of the great master's of comedy and his life. <br /><br />The realism really comes home with the little things: the fantasy of the guard which, rather than use the traditional 'dream' techniques remains solid then disappears. It plays on our knowledge and our senses, particularly with the scenes concerning Orton and Halliwell and the sets (particularly of their flat with Halliwell's murals decorating every surface) are terribly well done.",
         "1",
         "['wonderful', 'little', 'production', 'filming', 'technique', 'unassuming-', 'old', 'time', 'bbc', 'fashion', 'gives', 'comforting', 'discomforting', 'sense', 'realism', 'entire', 'piece', 'actors', 'extremely', 'chosen-', 'michael', 'sheen', 'got', 'polari', 'voices', 'pat', 'truly', 'seamless', 'editing', 'guided', 'references', 'williams', 'diary', 'entries', 'worth', 'watching', 'terrificly', 'written', 'performed', 'piece', 'masterful', 'production', 'great', 'master', 'comedy', 'life', 'realism', 'comes', 'home', 'little', 'things', 'fantasy', 'guard', 'use', 'traditional', 'dream', 'techniques', 'remains', 'solid', 'disappears', 'plays', 'knowledge', 'senses', 'particularly', 'scenes', 'concerning', 'orton', 'halliwell', 'sets', 'particularly', 'flat', 'halliwell', 'murals', 'decorating', 'surface', 'terribly']",
         "['wonderful', 'little', 'production', 'filming', 'technique', 'unassuming-', 'old', 'time', 'bbc', 'fashion', 'give', 'comforting', 'discomforte', 'sense', 'realism', 'entire', 'piece', 'actor', 'extremely', 'chosen-', 'michael', 'sheen', 'get', 'polari', 'voice', 'pat', 'truly', 'seamless', 'editing', 'guide', 'reference', 'williams', 'diary', 'entry', 'worth', 'watching', 'terrificly', 'write', 'perform', 'piece', 'masterful', 'production', 'great', 'master', 'comedy', 'life', 'realism', 'come', 'home', 'little', 'thing', 'fantasy', 'guard', 'use', 'traditional', 'dream', 'technique', 'remain', 'solid', 'disappear', 'play', 'knowledge', 'sense', 'particularly', 'scene', 'concern', 'orton', 'halliwell', 'set', 'particularly', 'flat', 'halliwell', 'mural', 'decorate', 'surface', 'terribly']"
        ],
        [
         "2",
         "I thought this was a wonderful way to spend time on a too hot summer weekend, sitting in the air conditioned theater and watching a light-hearted comedy. The plot is simplistic, but the dialogue is witty and the characters are likable (even the well bread suspected serial killer). While some may be disappointed when they realize this is not Match Point 2: Risk Addiction, I thought it was proof that Woody Allen is still fully in control of the style many of us have grown to love.<br /><br />This was the most I'd laughed at one of Woody's comedies in years (dare I say a decade?). While I've never been impressed with Scarlet Johanson, in this she managed to tone down her \"sexy\" image and jumped right into a average, but spirited young woman.<br /><br />This may not be the crown jewel of his career, but it was wittier than \"Devil Wears Prada\" and more interesting than \"Superman\" a great comedy to go see with friends.",
         "1",
         "['thought', 'wonderful', 'way', 'spend', 'time', 'hot', 'summer', 'weekend', 'sitting', 'air', 'conditioned', 'theater', 'watching', 'light', 'hearted', 'comedy', 'plot', 'simplistic', 'dialogue', 'witty', 'characters', 'likable', 'suspected', 'serial', 'killer', 'disappointed', 'realize', 'match', 'point', '2', 'risk', 'addiction', 'thought', 'proof', 'woody', 'allen', 'fully', 'control', 'style', 'grown', 'laughed', 'woody', 'comedies', 'years', 'dare', 'decade', 'impressed', 'scarlet', 'johanson', 'managed', 'tone', 'sexy', 'image', 'jumped', 'right', 'average', 'spirited', 'young', 'crown', 'jewel', 'career', 'wittier', 'devil', 'wears', 'prada', 'interesting', 'superman', 'great', 'comedy', 'friends']",
         "['think', 'wonderful', 'way', 'spend', 'time', 'hot', 'summer', 'weekend', 'sit', 'air', 'condition', 'theater', 'watch', 'light', 'hearted', 'comedy', 'plot', 'simplistic', 'dialogue', 'witty', 'character', 'likable', 'suspect', 'serial', 'killer', 'disappoint', 'realize', 'match', 'point', '2', 'risk', 'addiction', 'think', 'proof', 'woody', 'allen', 'fully', 'control', 'style', 'grow', 'laugh', 'woody', 'comedy', 'year', 'dare', 'decade', 'impress', 'scarlet', 'johanson', 'manage', 'tone', 'sexy', 'image', 'jump', 'right', 'average', 'spirited', 'young', 'crown', 'jewel', 'career', 'witty', 'devil', 'wears', 'prada', 'interesting', 'superman', 'great', 'comedy', 'friend']"
        ],
        [
         "3",
         "Basically there's a family where a little boy (Jake) thinks there's a zombie in his closet & his parents are fighting all the time.<br /><br />This movie is slower than a soap opera... and suddenly, Jake decides to become Rambo and kill the zombie.<br /><br />OK, first of all when you're going to make a film you must Decide if its a thriller or a drama! As a drama the movie is watchable. Parents are divorcing & arguing like in real life. And then we have Jake with his closet which totally ruins all the film! I expected to see a BOOGEYMAN similar movie, and instead i watched a drama with some meaningless thriller spots.<br /><br />3 out of 10 just for the well playing parents & descent dialogs. As for the shots with Jake: just ignore them.",
         "0",
         "['basically', 'family', 'little', 'boy', 'jake', 'thinks', 'zombie', 'closet', 'parents', 'fighting', 'movie', 'slower', 'soap', 'opera', 'suddenly', 'jake', 'decides', 'rambo', 'kill', 'going', 'film', 'decide', 'thriller', 'drama', 'drama', 'movie', 'watchable', 'parents', 'divorcing', 'arguing', 'like', 'real', 'life', 'jake', 'closet', 'totally', 'ruins', 'film', 'expected', 'boogeyman', 'similar', 'movie', 'instead', 'watched', 'drama', 'meaningless', 'thriller', '10', 'playing', 'parents', 'descent', 'dialogs', 'shots', 'jake', 'ignore']",
         "['basically', 'family', 'little', 'boy', 'jake', 'think', 'zombie', 'closet', 'parent', 'fight', 'movie', 'slow', 'soap', 'opera', 'suddenly', 'jake', 'decide', 'rambo', 'kill', 'go', 'film', 'decide', 'thriller', 'drama', 'drama', 'movie', 'watchable', 'parent', 'divorce', 'argue', 'like', 'real', 'life', 'jake', 'closet', 'totally', 'ruin', 'film', 'expect', 'boogeyman', 'similar', 'movie', 'instead', 'watch', 'drama', 'meaningless', 'thriller', '10', 'play', 'parent', 'descent', 'dialog', 'shot', 'jake', 'ignore']"
        ],
        [
         "4",
         "Petter Mattei's \"Love in the Time of Money\" is a visually stunning film to watch. Mr. Mattei offers us a vivid portrait about human relations. This is a movie that seems to be telling us what money, power and success do to people in the different situations we encounter. <br /><br />This being a variation on the Arthur Schnitzler's play about the same theme, the director transfers the action to the present time New York where all these different characters meet and connect. Each one is connected in one way, or another to the next person, but no one seems to know the previous point of contact. Stylishly, the film has a sophisticated luxurious look. We are taken to see how these people live and the world they live in their own habitat.<br /><br />The only thing one gets out of all these souls in the picture is the different stages of loneliness each one inhabits. A big city is not exactly the best place in which human relations find sincere fulfillment, as one discerns is the case with most of the people we encounter.<br /><br />The acting is good under Mr. Mattei's direction. Steve Buscemi, Rosario Dawson, Carol Kane, Michael Imperioli, Adrian Grenier, and the rest of the talented cast, make these characters come alive.<br /><br />We wish Mr. Mattei good luck and await anxiously for his next work.",
         "1",
         "['petter', 'mattei', 'love', 'time', 'money', 'visually', 'stunning', 'film', 'watch', 'mr.', 'mattei', 'offers', 'vivid', 'portrait', 'human', 'relations', 'movie', 'telling', 'money', 'power', 'success', 'people', 'different', 'situations', 'encounter', 'variation', 'arthur', 'schnitzler', 'play', 'theme', 'director', 'transfers', 'action', 'present', 'time', 'new', 'york', 'different', 'characters', 'meet', 'connect', 'connected', 'way', 'person', 'know', 'previous', 'point', 'contact', 'stylishly', 'film', 'sophisticated', 'luxurious', 'look', 'taken', 'people', 'live', 'world', 'live', 'thing', 'gets', 'souls', 'picture', 'different', 'stages', 'loneliness', 'inhabits', 'big', 'city', 'exactly', 'best', 'place', 'human', 'relations', 'find', 'sincere', 'fulfillment', 'discerns', 'case', 'people', 'acting', 'good', 'mr.', 'mattei', 'direction', 'steve', 'buscemi', 'rosario', 'dawson', 'carol', 'kane', 'michael', 'imperioli', 'adrian', 'grenier', 'rest', 'talented', 'cast', 'characters', 'come', 'wish', 'mr.', 'mattei', 'good', 'luck', 'await', 'anxiously', 'work']",
         "['petter', 'mattei', 'love', 'time', 'money', 'visually', 'stunning', 'film', 'watch', 'mr.', 'mattei', 'offer', 'vivid', 'portrait', 'human', 'relation', 'movie', 'tell', 'money', 'power', 'success', 'people', 'different', 'situation', 'encounter', 'variation', 'arthur', 'schnitzler', 'play', 'theme', 'director', 'transfer', 'action', 'present', 'time', 'new', 'york', 'different', 'character', 'meet', 'connect', 'connect', 'way', 'person', 'know', 'previous', 'point', 'contact', 'stylishly', 'film', 'sophisticated', 'luxurious', 'look', 'take', 'people', 'live', 'world', 'live', 'thing', 'get', 'soul', 'picture', 'different', 'stage', 'loneliness', 'inhabit', 'big', 'city', 'exactly', 'good', 'place', 'human', 'relation', 'find', 'sincere', 'fulfillment', 'discern', 'case', 'people', 'act', 'good', 'mr.', 'mattei', 'direction', 'steve', 'buscemi', 'rosario', 'dawson', 'carol', 'kane', 'michael', 'imperioli', 'adrian', 'grenier', 'rest', 'talented', 'cast', 'character', 'come', 'wish', 'mr.', 'mattei', 'good', 'luck', 'await', 'anxiously', 'work']"
        ]
       ],
       "shape": {
        "columns": 4,
        "rows": 5
       }
      },
      "text/html": [
       "<div>\n",
       "<style scoped>\n",
       "    .dataframe tbody tr th:only-of-type {\n",
       "        vertical-align: middle;\n",
       "    }\n",
       "\n",
       "    .dataframe tbody tr th {\n",
       "        vertical-align: top;\n",
       "    }\n",
       "\n",
       "    .dataframe thead th {\n",
       "        text-align: right;\n",
       "    }\n",
       "</style>\n",
       "<table border=\"1\" class=\"dataframe\">\n",
       "  <thead>\n",
       "    <tr style=\"text-align: right;\">\n",
       "      <th></th>\n",
       "      <th>review</th>\n",
       "      <th>sentiment</th>\n",
       "      <th>token</th>\n",
       "      <th>lemma</th>\n",
       "    </tr>\n",
       "  </thead>\n",
       "  <tbody>\n",
       "    <tr>\n",
       "      <th>0</th>\n",
       "      <td>One of the other reviewers has mentioned that ...</td>\n",
       "      <td>1</td>\n",
       "      <td>[reviewers, mentioned, watching, 1, oz, episod...</td>\n",
       "      <td>['reviewer', 'mention', 'watch', '1', 'oz', 'e...</td>\n",
       "    </tr>\n",
       "    <tr>\n",
       "      <th>1</th>\n",
       "      <td>A wonderful little production. &lt;br /&gt;&lt;br /&gt;The...</td>\n",
       "      <td>1</td>\n",
       "      <td>[wonderful, little, production, filming, techn...</td>\n",
       "      <td>['wonderful', 'little', 'production', 'filming...</td>\n",
       "    </tr>\n",
       "    <tr>\n",
       "      <th>2</th>\n",
       "      <td>I thought this was a wonderful way to spend ti...</td>\n",
       "      <td>1</td>\n",
       "      <td>[thought, wonderful, way, spend, time, hot, su...</td>\n",
       "      <td>['think', 'wonderful', 'way', 'spend', 'time',...</td>\n",
       "    </tr>\n",
       "    <tr>\n",
       "      <th>3</th>\n",
       "      <td>Basically there's a family where a little boy ...</td>\n",
       "      <td>0</td>\n",
       "      <td>[basically, family, little, boy, jake, thinks,...</td>\n",
       "      <td>['basically', 'family', 'little', 'boy', 'jake...</td>\n",
       "    </tr>\n",
       "    <tr>\n",
       "      <th>4</th>\n",
       "      <td>Petter Mattei's \"Love in the Time of Money\" is...</td>\n",
       "      <td>1</td>\n",
       "      <td>[petter, mattei, love, time, money, visually, ...</td>\n",
       "      <td>['petter', 'mattei', 'love', 'time', 'money', ...</td>\n",
       "    </tr>\n",
       "  </tbody>\n",
       "</table>\n",
       "</div>"
      ],
      "text/plain": [
       "                                              review  sentiment  \\\n",
       "0  One of the other reviewers has mentioned that ...          1   \n",
       "1  A wonderful little production. <br /><br />The...          1   \n",
       "2  I thought this was a wonderful way to spend ti...          1   \n",
       "3  Basically there's a family where a little boy ...          0   \n",
       "4  Petter Mattei's \"Love in the Time of Money\" is...          1   \n",
       "\n",
       "                                               token  \\\n",
       "0  [reviewers, mentioned, watching, 1, oz, episod...   \n",
       "1  [wonderful, little, production, filming, techn...   \n",
       "2  [thought, wonderful, way, spend, time, hot, su...   \n",
       "3  [basically, family, little, boy, jake, thinks,...   \n",
       "4  [petter, mattei, love, time, money, visually, ...   \n",
       "\n",
       "                                               lemma  \n",
       "0  ['reviewer', 'mention', 'watch', '1', 'oz', 'e...  \n",
       "1  ['wonderful', 'little', 'production', 'filming...  \n",
       "2  ['think', 'wonderful', 'way', 'spend', 'time',...  \n",
       "3  ['basically', 'family', 'little', 'boy', 'jake...  \n",
       "4  ['petter', 'mattei', 'love', 'time', 'money', ...  "
      ]
     },
     "execution_count": 2,
     "metadata": {},
     "output_type": "execute_result"
    }
   ],
   "source": [
    "df = pd.read_csv(r\"C:\\Users\\seifa\\Desktop\\Python\\Beginner_natural_language_processing\\iMDB-50k\\preprocessed_imdb_50k.csv\")\n",
    "\n",
    "df['token'] = df['token'].apply(ast.literal_eval)\n",
    "df['sentiment'] = df['sentiment'].map({'positive': 1, 'negative': 0})\n",
    "\n",
    "df.head()"
   ]
  },
  {
   "cell_type": "code",
   "execution_count": 3,
   "id": "b6b03935",
   "metadata": {},
   "outputs": [],
   "source": [
    "# 1. Build vocabulary\n",
    "token_counts = Counter(token for review in df['token'] for token in review)\n",
    "vocab = {token: idx + 2 for idx, (token, _) in enumerate(token_counts.items())}  # +2 for PAD/UNK\n",
    "vocab['<PAD>'] = 0\n",
    "vocab['<UNK>'] = 1"
   ]
  },
  {
   "cell_type": "code",
   "execution_count": 4,
   "id": "585b2f34",
   "metadata": {},
   "outputs": [],
   "source": [
    "# 2. Numericalize\n",
    "def numericalize(tokens):\n",
    "    return [vocab.get(token, vocab['<UNK>']) for token in tokens]\n",
    "\n",
    "numericalized_texts = [numericalize(tokens) for tokens in df['token']]"
   ]
  },
  {
   "cell_type": "code",
   "execution_count": 5,
   "id": "dde1e9ee",
   "metadata": {},
   "outputs": [],
   "source": [
    "# 3. Pad / truncate\n",
    "lengths = [len(tokens) for tokens in df['token']]\n",
    "max_len = int(np.percentile(lengths, 90))\n",
    "def pad_sequence(seq, max_len):\n",
    "    return seq[:max_len] + [vocab['<PAD>']] * max(0, max_len - len(seq))\n",
    "\n",
    "padded_texts = [pad_sequence(seq, max_len) for seq in numericalized_texts]"
   ]
  },
  {
   "cell_type": "code",
   "execution_count": 7,
   "id": "d6c04766",
   "metadata": {},
   "outputs": [],
   "source": [
    "# 4. Dataset and DataLoader\n",
    "class TextDataset(Dataset):\n",
    "    def __init__(self, texts, labels):\n",
    "        self.texts = torch.tensor(texts, dtype=torch.long)\n",
    "        self.labels = torch.tensor(labels, dtype=torch.long)\n",
    "    def __len__(self):\n",
    "        return len(self.labels)\n",
    "    def __getitem__(self, idx):\n",
    "        return self.texts[idx], self.labels[idx]\n",
    "\n",
    "dataset = TextDataset(padded_texts, df['sentiment'])"
   ]
  },
  {
   "cell_type": "code",
   "execution_count": 11,
   "id": "871219b8",
   "metadata": {},
   "outputs": [],
   "source": [
    "train_size = int(0.8 * len(dataset))\n",
    "val_size = int(0.1 * len(dataset))\n",
    "test_size = len(dataset) - train_size - val_size\n",
    "\n",
    "train_dataset, val_dataset, test_dataset = random_split(dataset, [train_size, val_size, test_size])\n",
    "train_loader = DataLoader(train_dataset, batch_size=64, shuffle=True)\n",
    "val_loader = DataLoader(val_dataset, batch_size=64, shuffle=False)\n",
    "test_loader = DataLoader(test_dataset, batch_size=64, shuffle=False)"
   ]
  },
  {
   "cell_type": "code",
   "execution_count": 22,
   "id": "159ea77b",
   "metadata": {},
   "outputs": [],
   "source": [
    "class TextClassifier(nn.Module):\n",
    "    def __init__(self, vocab_size, embed_dim, hidden_dim, num_classes, dropout_p=0.5):\n",
    "        super(TextClassifier, self).__init__()\n",
    "        self.embedding = nn.Embedding(vocab_size, embed_dim)\n",
    "        self.fc1 = nn.Linear(embed_dim, hidden_dim)\n",
    "        self.relu = nn.ReLU()\n",
    "        self.dropout = nn.Dropout(dropout_p)\n",
    "        self.fc2 = nn.Linear(hidden_dim, num_classes)\n",
    "    \n",
    "    def forward(self, x):\n",
    "        x = self.embedding(x)           # [batch, seq_len, embed_dim]\n",
    "        x = x.mean(dim=1)               # average pooling\n",
    "        x = self.fc1(x)\n",
    "        x = self.relu(x)\n",
    "        x = self.dropout(x)\n",
    "        x = self.fc2(x)\n",
    "        return x"
   ]
  },
  {
   "cell_type": "code",
   "execution_count": 23,
   "id": "4569c6b4",
   "metadata": {},
   "outputs": [],
   "source": [
    "model = TextClassifier(vocab_size=len(vocab), embed_dim=128, hidden_dim=64, num_classes=2)\n",
    "\n",
    "criterion = nn.CrossEntropyLoss()\n",
    "optimizer = torch.optim.Adam(model.parameters(), lr=1e-3, weight_decay=1e-5)"
   ]
  },
  {
   "cell_type": "code",
   "execution_count": 24,
   "id": "1c1b6fbc",
   "metadata": {},
   "outputs": [
    {
     "data": {
      "text/plain": [
       "device(type='cuda')"
      ]
     },
     "execution_count": 24,
     "metadata": {},
     "output_type": "execute_result"
    }
   ],
   "source": [
    "device = torch.device(\"cuda\" if torch.cuda.is_available() else \"cpu\")\n",
    "model.to(device)\n",
    "\n",
    "device"
   ]
  },
  {
   "cell_type": "code",
   "execution_count": 25,
   "id": "5dcf43e2",
   "metadata": {},
   "outputs": [],
   "source": [
    "def train():\n",
    "    total_loss = 0\n",
    "    total_correct = 0\n",
    "    total_samples = 0\n",
    "\n",
    "    model.train()\n",
    "    for x, y in train_loader:\n",
    "        x, y = x.to(device), y.to(device)\n",
    "        output = model(x)\n",
    "        optimizer.zero_grad()\n",
    "        batch_loss = criterion(output, y)\n",
    "        batch_loss.backward()\n",
    "        torch.nn.utils.clip_grad_norm_(model.parameters(), max_norm=5.0)\n",
    "        optimizer.step()\n",
    "\n",
    "        total_loss += batch_loss.item() * x.size(0)  # sum weighted by batch size\n",
    "        pred = output.argmax(dim=1)\n",
    "        total_correct += pred.eq(y).sum().item()\n",
    "        total_samples += x.size(0)\n",
    "\n",
    "    avg_loss = total_loss / total_samples\n",
    "    accuracy = total_correct / total_samples\n",
    "    print(f'Train - Loss: {avg_loss:.4f} Accuracy: {accuracy:.4f} \\n')\n",
    "\n",
    "def valid():\n",
    "    total_loss = 0\n",
    "    total_correct = 0\n",
    "    total_samples = 0\n",
    "\n",
    "    model.eval()\n",
    "    with torch.no_grad():\n",
    "        for x, y in val_loader:\n",
    "            x, y = x.to(device), y.to(device)\n",
    "            output = model(x)\n",
    "            batch_loss = criterion(output, y)\n",
    "\n",
    "            total_loss += batch_loss.item() * x.size(0)\n",
    "            pred = output.argmax(dim=1)\n",
    "            total_correct += pred.eq(y).sum().item()\n",
    "            total_samples += x.size(0)\n",
    "\n",
    "    avg_loss = total_loss / total_samples\n",
    "    accuracy = total_correct / total_samples\n",
    "    print(f'Valid - Loss: {avg_loss:.4f} Accuracy: {accuracy:.4f}\\n')"
   ]
  },
  {
   "cell_type": "code",
   "execution_count": 26,
   "id": "f99b9311",
   "metadata": {},
   "outputs": [
    {
     "name": "stdout",
     "output_type": "stream",
     "text": [
      "Epoch nb 1 Starting...\n",
      "Train - Loss: 0.6637 Accuracy: 0.5763 \n",
      "\n",
      "Valid - Loss: 0.5002 Accuracy: 0.7818\n",
      "\n",
      "epoch duration is 8.45s\n",
      "Epoch nb 2 Starting...\n",
      "Train - Loss: 0.3931 Accuracy: 0.8308 \n",
      "\n",
      "Valid - Loss: 0.3223 Accuracy: 0.8692\n",
      "\n",
      "epoch duration is 7.48s\n",
      "Epoch nb 3 Starting...\n",
      "Train - Loss: 0.2878 Accuracy: 0.8854 \n",
      "\n",
      "Valid - Loss: 0.2990 Accuracy: 0.8784\n",
      "\n",
      "epoch duration is 7.55s\n",
      "Epoch nb 4 Starting...\n",
      "Train - Loss: 0.2439 Accuracy: 0.9072 \n",
      "\n",
      "Valid - Loss: 0.2840 Accuracy: 0.8864\n",
      "\n",
      "epoch duration is 7.63s\n",
      "Epoch nb 5 Starting...\n",
      "Train - Loss: 0.2120 Accuracy: 0.9218 \n",
      "\n",
      "Valid - Loss: 0.3209 Accuracy: 0.8638\n",
      "\n",
      "epoch duration is 7.57s\n",
      "Epoch nb 6 Starting...\n",
      "Train - Loss: 0.1862 Accuracy: 0.9342 \n",
      "\n",
      "Valid - Loss: 0.3076 Accuracy: 0.8846\n",
      "\n",
      "epoch duration is 7.58s\n",
      "Epoch nb 7 Starting...\n",
      "Train - Loss: 0.1613 Accuracy: 0.9442 \n",
      "\n",
      "Valid - Loss: 0.3238 Accuracy: 0.8844\n",
      "\n",
      "epoch duration is 7.85s\n",
      "Epoch nb 8 Starting...\n",
      "Train - Loss: 0.1452 Accuracy: 0.9499 \n",
      "\n",
      "Valid - Loss: 0.3246 Accuracy: 0.8860\n",
      "\n",
      "epoch duration is 7.62s\n",
      "Epoch nb 9 Starting...\n",
      "Train - Loss: 0.1270 Accuracy: 0.9561 \n",
      "\n",
      "Valid - Loss: 0.3308 Accuracy: 0.8858\n",
      "\n",
      "epoch duration is 7.74s\n",
      "Epoch nb 10 Starting...\n",
      "Train - Loss: 0.1164 Accuracy: 0.9607 \n",
      "\n",
      "Valid - Loss: 0.3560 Accuracy: 0.8822\n",
      "\n",
      "epoch duration is 7.48s\n",
      "training complete!\n"
     ]
    }
   ],
   "source": [
    "epochs = 10\n",
    "\n",
    "for epoch in range(1, epochs+1):\n",
    "    start_time=time.time()\n",
    "    print(f\"Epoch nb {epoch} Starting...\")\n",
    "    train()\n",
    "    valid()\n",
    "    end_time=time.time()\n",
    "    print(f\"epoch duration is {end_time-start_time:.2f}s\")\n",
    "\n",
    "print(f\"training complete!\")\n"
   ]
  },
  {
   "cell_type": "code",
   "execution_count": 21,
   "id": "eb1d4286",
   "metadata": {},
   "outputs": [
    {
     "name": "stdout",
     "output_type": "stream",
     "text": [
      "Test - Loss: 0.8863 Accuracy: 0.8766\n",
      "\n"
     ]
    }
   ],
   "source": [
    "def test():\n",
    "    total_loss = 0\n",
    "    total_correct = 0\n",
    "    total_samples = 0\n",
    "\n",
    "    model.eval()\n",
    "    y_true = []\n",
    "    y_pred = []\n",
    "    with torch.no_grad():\n",
    "        for x, y in test_loader:\n",
    "            x, y = x.to(device), y.to(device)\n",
    "            output = model(x)\n",
    "            preds = output.argmax(dim=1)\n",
    "\n",
    "            batch_loss = criterion(output, y)\n",
    "            total_loss += batch_loss.item() * x.size(0)\n",
    "            total_correct += preds.eq(y).sum().item()\n",
    "            total_samples += x.size(0)\n",
    "            \n",
    "            y_true.extend(y.cpu().tolist())\n",
    "            y_pred.extend(preds.cpu().tolist())\n",
    "\n",
    "    avg_loss = total_loss / total_samples\n",
    "    accuracy = total_correct / total_samples\n",
    "    print(f'Test - Loss: {avg_loss:.4f} Accuracy: {accuracy:.4f}\\n')\n",
    "    return y_true, y_pred\n",
    "\n",
    "y_true, y_pred = test()"
   ]
  }
 ],
 "metadata": {
  "kernelspec": {
   "display_name": "Python 3",
   "language": "python",
   "name": "python3"
  },
  "language_info": {
   "codemirror_mode": {
    "name": "ipython",
    "version": 3
   },
   "file_extension": ".py",
   "mimetype": "text/x-python",
   "name": "python",
   "nbconvert_exporter": "python",
   "pygments_lexer": "ipython3",
   "version": "3.11.9"
  }
 },
 "nbformat": 4,
 "nbformat_minor": 5
}
